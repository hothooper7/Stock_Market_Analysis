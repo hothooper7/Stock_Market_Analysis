{
 "cells": [
  {
   "cell_type": "markdown",
   "id": "2a61c1e6",
   "metadata": {},
   "source": [
    "### Dependencies"
   ]
  },
  {
   "cell_type": "code",
   "execution_count": null,
   "id": "b3a8a5cc",
   "metadata": {},
   "outputs": [],
   "source": [
    "pip install plotly"
   ]
  },
  {
   "cell_type": "code",
   "execution_count": null,
   "id": "075afe13",
   "metadata": {},
   "outputs": [],
   "source": [
    "import os\n",
    "import pandas as pd\n",
    "import numpy as np\n",
    "import csv\n",
    "import datetime as dt\n",
    "import plotly.express as px\n",
    "%matplotlib inline"
   ]
  },
  {
   "cell_type": "markdown",
   "id": "6f81e82b",
   "metadata": {},
   "source": [
    "## Stock Data for 10 Companies, 5 Sectors"
   ]
  },
  {
   "cell_type": "code",
   "execution_count": null,
   "id": "8e02eb23",
   "metadata": {},
   "outputs": [],
   "source": [
    "# 1. Function to read data for 50 companies in 5 sectors into a data frame\n",
    "\n",
    "def get_data(filename):\n",
    "    df = pd.read_csv(filename, parse_dates=True)\n",
    "    \n",
    "    # df = df.drop(columns =['code', 'gics_sector'])\n",
    "    \n",
    "    df['date'] = pd.to_datetime(df.date)\n",
    "    \n",
    "    df = df.sort_values(['date', 'ticker'])\n",
    "    \n",
    "    df_t1 = df.loc[(df['date'] >= '2020-1-1') & (df['date'] <= '2021-3-31')]\n",
    "    \n",
    "    df_t2 = df.loc[(df['date'] >= '2021-4-1') & (df['date'] <= '2022-7-15')]\n",
    "    \n",
    "    df_t1 = df_t1.sort_values(['date', 'ticker'])\n",
    "    \n",
    "    # df_t1 = df_t1.drop(columns =['gics_sector'])\n",
    "    \n",
    "    # df_t2 = df_t2.drop(columns =['gics_sector'])\n",
    "    \n",
    "    df_t2 = df_t2.sort_values(['date', 'ticker'])\n",
    "        \n",
    "    return df, df_t1, df_t2"
   ]
  },
  {
   "cell_type": "code",
   "execution_count": null,
   "id": "568e0f3a",
   "metadata": {},
   "outputs": [],
   "source": [
    "#2. Read data into 3 dara frames: a. Full data frame, b. first time range, c. 2nd time range\n",
    "\n",
    "df, df_t1, df_t2 = get_data('stocks_10companies_5_sectors.csv')"
   ]
  },
  {
   "cell_type": "code",
   "execution_count": null,
   "id": "6f58deab",
   "metadata": {},
   "outputs": [],
   "source": [
    "# Check the full data frame\n",
    "df"
   ]
  },
  {
   "cell_type": "code",
   "execution_count": null,
   "id": "3ea9ec60",
   "metadata": {},
   "outputs": [],
   "source": [
    "# Check the data frame of the first segment\n",
    "df_t1"
   ]
  },
  {
   "cell_type": "code",
   "execution_count": null,
   "id": "a44b0910",
   "metadata": {},
   "outputs": [],
   "source": [
    "# Check the data frame of the second segment\n",
    "df_t2"
   ]
  },
  {
   "cell_type": "code",
   "execution_count": null,
   "id": "844b3660",
   "metadata": {},
   "outputs": [],
   "source": []
  },
  {
   "cell_type": "markdown",
   "id": "cf3b4d2d",
   "metadata": {},
   "source": [
    "## First Segment"
   ]
  },
  {
   "cell_type": "code",
   "execution_count": null,
   "id": "2aab2b37",
   "metadata": {},
   "outputs": [],
   "source": [
    "# 3. Create data frames for each ticker of particular sector for first segment\n",
    "data = df_t1\n",
    "dfs = dict(tuple(data.groupby('ticker')))"
   ]
  },
  {
   "cell_type": "code",
   "execution_count": null,
   "id": "78cd37e6",
   "metadata": {},
   "outputs": [],
   "source": [
    "# 4. Get \"close\" values and create a data frame of tickers\n",
    "df_t1_close = {}\n",
    "for df in dfs:\n",
    "    dfs[df].set_index('date', inplace = True)\n",
    "    df_t1_close[df] = dfs[df].close\n",
    "# print(df_t1_close)\n",
    "df_t1_close = pd.DataFrame(df_t1_close)\n",
    "df_t1_close"
   ]
  },
  {
   "cell_type": "code",
   "execution_count": null,
   "id": "f826e1b4",
   "metadata": {},
   "outputs": [],
   "source": [
    "## Summary stattistics\n",
    "df_t1_close.describe()"
   ]
  },
  {
   "cell_type": "code",
   "execution_count": null,
   "id": "76fce4ec",
   "metadata": {},
   "outputs": [],
   "source": [
    "# 5. Calculate the Cumulative return for the First segment\n",
    "df_close = df_t1_close.copy()\n",
    "df_t1_cumulative_return = ((df_close.iloc[313, :] / df_close.iloc[0, :].values) - 1)*100\n",
    "df_t1_cumulative_return"
   ]
  },
  {
   "cell_type": "markdown",
   "id": "05eafc41",
   "metadata": {},
   "source": [
    "## Second Segment"
   ]
  },
  {
   "cell_type": "code",
   "execution_count": null,
   "id": "8a515796",
   "metadata": {},
   "outputs": [],
   "source": [
    "# 6. Create data frames for each ticker of particular sector for first segment\n",
    "data = df_t2\n",
    "dfs = dict(tuple(data.groupby('ticker')))"
   ]
  },
  {
   "cell_type": "code",
   "execution_count": null,
   "id": "da3c6904",
   "metadata": {},
   "outputs": [],
   "source": [
    "# 7. Get \"close\" values and create a data frame of tickers\n",
    "df_t2_close = {}\n",
    "for df in dfs:\n",
    "    dfs[df].set_index('date', inplace = True)\n",
    "    df_t2_close[df] = dfs[df].close\n",
    "# print(df_t2_close)\n",
    "df_t2_close = pd.DataFrame(df_t2_close)\n",
    "\n",
    "# Check the data frame\n",
    "df_t2_close"
   ]
  },
  {
   "cell_type": "code",
   "execution_count": null,
   "id": "ce02d31a",
   "metadata": {},
   "outputs": [],
   "source": [
    "# 8. Calculate the Cumulative return for the second segment\n",
    "df_close = df_t2_close.copy()\n",
    "df_t2_cumulative_return = ((df_close.iloc[324, :] / df_close.iloc[0, :].values) - 1)*100\n",
    "df_t2_cumulative_return"
   ]
  },
  {
   "cell_type": "code",
   "execution_count": null,
   "id": "e90cb1ed",
   "metadata": {},
   "outputs": [],
   "source": [
    "# 9. Create a summary data frame\n",
    "df_summary = pd.DataFrame({\n",
    "              \"2020_2021\": df_t1_cumulative_return,\n",
    "              \"2021_2022\": df_t2_cumulative_return})"
   ]
  },
  {
   "cell_type": "code",
   "execution_count": null,
   "id": "ad224985",
   "metadata": {
    "scrolled": true
   },
   "outputs": [],
   "source": [
    "df_summary"
   ]
  },
  {
   "cell_type": "code",
   "execution_count": null,
   "id": "66610a04",
   "metadata": {},
   "outputs": [],
   "source": [
    "# a scatter plot comparing segment 1 and segment 2\n",
    "px.scatter(df_summary, x='2020_2021', y='2021_2022')"
   ]
  },
  {
   "cell_type": "code",
   "execution_count": null,
   "id": "14206fcd",
   "metadata": {},
   "outputs": [],
   "source": [
    "# 10. Summary statistics\n",
    "df_summary.describe()"
   ]
  },
  {
   "cell_type": "code",
   "execution_count": null,
   "id": "a48b4cab",
   "metadata": {},
   "outputs": [],
   "source": [
    "# 11. Save summary to CSV file\n",
    "df_summary.to_csv('cumulative_return_for_2_segmants.csv')"
   ]
  },
  {
   "cell_type": "code",
   "execution_count": null,
   "id": "784dd04a",
   "metadata": {},
   "outputs": [],
   "source": []
  }
 ],
 "metadata": {
  "kernelspec": {
   "display_name": "Python 3 (ipykernel)",
   "language": "python",
   "name": "python3"
  },
  "language_info": {
   "codemirror_mode": {
    "name": "ipython",
    "version": 3
   },
   "file_extension": ".py",
   "mimetype": "text/x-python",
   "name": "python",
   "nbconvert_exporter": "python",
   "pygments_lexer": "ipython3",
   "version": "3.9.7"
  },
  "vscode": {
   "interpreter": {
    "hash": "1856f52280aafdd832562b3bf6727e650a65e88ad7ef35e832cf8109a8cee42f"
   }
  }
 },
 "nbformat": 4,
 "nbformat_minor": 5
}
