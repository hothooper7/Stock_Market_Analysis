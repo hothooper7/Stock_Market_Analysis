{
  "cells": [
    {
      "cell_type": "code",
      "execution_count": 1,
      "metadata": {
        "colab": {
          "base_uri": "https://localhost:8080/"
        },
        "id": "5WosHdRWdmpw",
        "outputId": "a391930f-3eb7-4f31-f0ec-edfe640ac469"
      },
      "outputs": [
        {
          "output_type": "stream",
          "name": "stdout",
          "text": [
            "\r0% [Working]\r            \rGet:1 http://security.ubuntu.com/ubuntu bionic-security InRelease [88.7 kB]\n",
            "\r0% [Connecting to archive.ubuntu.com (185.125.190.36)] [1 InRelease 14.2 kB/88.\r                                                                               \rHit:2 https://developer.download.nvidia.com/compute/cuda/repos/ubuntu1804/x86_64  InRelease\n",
            "\r0% [Waiting for headers] [1 InRelease 88.7 kB/88.7 kB 100%] [Connected to cloud\r                                                                               \rGet:3 https://cloud.r-project.org/bin/linux/ubuntu bionic-cran40/ InRelease [3,626 B]\n",
            "\r                                                                               \r0% [Waiting for headers] [Waiting for headers] [Waiting for headers]\r                                                                    \rHit:4 http://archive.ubuntu.com/ubuntu bionic InRelease\n",
            "\r                                                                    \rGet:5 http://ppa.launchpad.net/c2d4u.team/c2d4u4.0+/ubuntu bionic InRelease [15.9 kB]\n",
            "\r0% [2 InRelease gpgv 1,581 B] [Waiting for headers] [5 InRelease 14.2 kB/15.9 k\r                                                                               \rIgn:6 https://developer.download.nvidia.com/compute/machine-learning/repos/ubuntu1804/x86_64  InRelease\n",
            "Hit:7 https://developer.download.nvidia.com/compute/machine-learning/repos/ubuntu1804/x86_64  Release\n",
            "Get:8 http://archive.ubuntu.com/ubuntu bionic-updates InRelease [88.7 kB]\n",
            "Hit:9 http://ppa.launchpad.net/cran/libgit2/ubuntu bionic InRelease\n",
            "Get:10 http://archive.ubuntu.com/ubuntu bionic-backports InRelease [74.6 kB]\n",
            "Hit:11 http://ppa.launchpad.net/deadsnakes/ppa/ubuntu bionic InRelease\n",
            "Hit:12 http://ppa.launchpad.net/graphics-drivers/ppa/ubuntu bionic InRelease\n",
            "Get:13 http://security.ubuntu.com/ubuntu bionic-security/main amd64 Packages [2,905 kB]\n",
            "Get:14 http://security.ubuntu.com/ubuntu bionic-security/universe amd64 Packages [1,527 kB]\n",
            "Get:15 https://cloud.r-project.org/bin/linux/ubuntu bionic-cran40/ Packages [87.8 kB]\n",
            "Get:17 http://ppa.launchpad.net/c2d4u.team/c2d4u4.0+/ubuntu bionic/main amd64 Packages [1,063 kB]\n",
            "Get:18 http://archive.ubuntu.com/ubuntu bionic-updates/main amd64 Packages [3,336 kB]\n",
            "Get:19 http://archive.ubuntu.com/ubuntu bionic-updates/universe amd64 Packages [2,306 kB]\n",
            "Fetched 11.5 MB in 5s (2,143 kB/s)\n",
            "Reading package lists... Done\n"
          ]
        }
      ],
      "source": [
        "import os\n",
        "# Find the latest version of spark 3.0  from http://www.apache.org/dist/spark/ and enter as the spark version\n",
        "# For example:\n",
        "# spark_version = 'spark-3.0.3'\n",
        "spark_version = 'spark-3.0.3'\n",
        "os.environ['SPARK_VERSION']=spark_version\n",
        "\n",
        "# Install Spark and Java\n",
        "!apt-get update\n",
        "!apt-get install openjdk-11-jdk-headless -qq > /dev/null\n",
        "!wget -q http://www.apache.org/dist/spark/$SPARK_VERSION/$SPARK_VERSION-bin-hadoop2.7.tgz\n",
        "!tar xf $SPARK_VERSION-bin-hadoop2.7.tgz\n",
        "!pip install -q findspark\n",
        "\n",
        "# Set Environment Variables\n",
        "os.environ[\"JAVA_HOME\"] = \"/usr/lib/jvm/java-11-openjdk-amd64\"\n",
        "os.environ[\"SPARK_HOME\"] = f\"/content/{spark_version}-bin-hadoop2.7\"\n",
        "\n",
        "# Start a SparkSession\n",
        "import findspark\n",
        "findspark.init()"
      ]
    },
    {
      "cell_type": "code",
      "execution_count": 2,
      "metadata": {
        "colab": {
          "base_uri": "https://localhost:8080/"
        },
        "id": "xISV-9eR6Yah",
        "outputId": "1b7abd63-9998-47ec-c696-555901f85049"
      },
      "outputs": [
        {
          "output_type": "stream",
          "name": "stdout",
          "text": [
            "--2022-07-31 00:31:18--  https://jdbc.postgresql.org/download/postgresql-42.2.9.jar\n",
            "Resolving jdbc.postgresql.org (jdbc.postgresql.org)... 72.32.157.228, 2001:4800:3e1:1::228\n",
            "Connecting to jdbc.postgresql.org (jdbc.postgresql.org)|72.32.157.228|:443... connected.\n",
            "HTTP request sent, awaiting response... 200 OK\n",
            "Length: 914037 (893K) [application/java-archive]\n",
            "Saving to: ‘postgresql-42.2.9.jar’\n",
            "\n",
            "postgresql-42.2.9.j 100%[===================>] 892.61K  4.98MB/s    in 0.2s    \n",
            "\n",
            "2022-07-31 00:31:18 (4.98 MB/s) - ‘postgresql-42.2.9.jar’ saved [914037/914037]\n",
            "\n"
          ]
        }
      ],
      "source": [
        "!wget https://jdbc.postgresql.org/download/postgresql-42.2.9.jar"
      ]
    },
    {
      "cell_type": "code",
      "execution_count": 3,
      "metadata": {
        "id": "aEQFTWiV6g2h"
      },
      "outputs": [],
      "source": [
        "from pyspark.sql import SparkSession\n",
        "spark = SparkSession.builder.appName(\"Stock_Market_Project\").config(\"spark.driver.extraClassPath\",\"/content/postgresql-42.2.9.jar\").getOrCreate()"
      ]
    },
    {
      "cell_type": "code",
      "execution_count": 4,
      "metadata": {
        "id": "qik6uGSV9BWa"
      },
      "outputs": [],
      "source": [
        "# Read in data from S3 Buckets\n",
        "from pyspark import SparkFiles\n",
        "# url=\"https://myclassbucket-01.s3.amazonaws.com/user_data.csv\"\n",
        "# spark.sparkContext.addFile(url)\n",
        "# user_data_df = spark.read.csv(SparkFiles.get(\"user_data.csv\"), sep=\",\", header=True, inferSchema=True)\n",
        "\n",
        "# Show DataFrame\n",
        "# user_data_df.show()"
      ]
    },
    {
      "cell_type": "code",
      "execution_count": null,
      "metadata": {
        "id": "RzqGVnoNd-d8"
      },
      "outputs": [],
      "source": [
        "# url=\"https://myclassbucket-01.s3.amazonaws.com/user_payment.csv\"\n",
        "# spark.sparkContext.addFile(url)\n",
        "# user_payment_df = spark.read.csv(SparkFiles.get(\"user_payment.csv\"), sep=\",\", header=True, inferSchema=True)\n",
        "\n",
        "# # Show DataFrame\n",
        "# user_payment_df.show()"
      ]
    },
    {
      "cell_type": "code",
      "execution_count": null,
      "metadata": {
        "id": "GoN3Gyb4fkhC"
      },
      "outputs": [],
      "source": [
        "# # Join the two DataFrame\n",
        "# joined_df= user_data_df.join(user_payment_df, on=\"username\", how=\"inner\")\n",
        "# joined_df.show()"
      ]
    },
    {
      "cell_type": "code",
      "execution_count": null,
      "metadata": {
        "id": "rtDndjrdlh83"
      },
      "outputs": [],
      "source": [
        "# # Drop null values\n",
        "# dropna_df = joined_df.dropna()\n",
        "# dropna_df.show()"
      ]
    },
    {
      "cell_type": "code",
      "execution_count": null,
      "metadata": {
        "id": "bjEBAydllvCg"
      },
      "outputs": [],
      "source": [
        "# Load in a sql function to use columns\n",
        "from pyspark.sql.functions import col\n",
        "\n",
        "# # Filter for only columns with active users\n",
        "# cleaned_df = dropna_df.filter(col(\"active_user\")  == True)\n",
        "# cleaned_df.show()"
      ]
    },
    {
      "cell_type": "code",
      "execution_count": null,
      "metadata": {
        "id": "qVzKY3EjmUoj"
      },
      "outputs": [],
      "source": [
        "# # Create user dataframe to match active_user table\n",
        "# clean_user_df = cleaned_df.select([\"id\", \"first_name\", \"last_name\", \"username\"])\n",
        "# clean_user_df.show()"
      ]
    },
    {
      "cell_type": "code",
      "execution_count": null,
      "metadata": {
        "id": "K6mUzCILmj9X"
      },
      "outputs": [],
      "source": [
        "# # Create user dataframe to match billing_info table\n",
        "# clean_billing_df = cleaned_df.select([\"billing_id\", \"street_address\", \"state\", \"username\"])\n",
        "# clean_billing_df.show()"
      ]
    },
    {
      "cell_type": "code",
      "execution_count": null,
      "metadata": {
        "id": "wVcL8Ub7mmaY"
      },
      "outputs": [],
      "source": [
        "# # Create user dataframe to match payment_info table\n",
        "# clean_payment_df = cleaned_df.select([\"billing_id\", \"cc_encrypted\"])\n",
        "# clean_payment_df.show()"
      ]
    },
    {
      "cell_type": "markdown",
      "metadata": {
        "id": "kQgPpNnVnRwh"
      },
      "source": [
        "Postgres Setup"
      ]
    },
    {
      "cell_type": "code",
      "execution_count": 5,
      "metadata": {
        "id": "985Vl1dtmpVU"
      },
      "outputs": [],
      "source": [
        "# Configure settings for RDS\n",
        "mode = \"append\"\n",
        "jdbc_url=\"jdbc:postgresql://myclassdb-01.cd80yqfjmzyg.us-east-1.rds.amazonaws.com:5432/stock_market\"\n",
        "config = {\"user\":\"postgres\", \n",
        "          \"password\": \"vazji6-jaqkux-sumqYb\", \n",
        "          \"driver\":\"org.postgresql.Driver\"}\n"
      ]
    },
    {
      "cell_type": "code",
      "source": [
        "stock_df = spark.read.jdbc(url=jdbc_url, table='stocks', properties=config)"
      ],
      "metadata": {
        "id": "RtTuIM-7g2Vg"
      },
      "execution_count": 7,
      "outputs": []
    },
    {
      "cell_type": "code",
      "source": [
        "stock_df.createOrReplaceTempView(\"stocks\")"
      ],
      "metadata": {
        "id": "KPSh6u9_ghBK"
      },
      "execution_count": 8,
      "outputs": []
    },
    {
      "cell_type": "code",
      "source": [
        "st = stock_df.filter(stock_df['ticker'] == 'AAPL')"
      ],
      "metadata": {
        "id": "SW_-KOA6rqVq"
      },
      "execution_count": 12,
      "outputs": []
    },
    {
      "cell_type": "code",
      "source": [
        "st.show()"
      ],
      "metadata": {
        "colab": {
          "base_uri": "https://localhost:8080/"
        },
        "id": "Nr_5u8AxstSy",
        "outputId": "936c46a3-49c3-4a45-9170-c06757fc4845"
      },
      "execution_count": 13,
      "outputs": [
        {
          "output_type": "stream",
          "name": "stdout",
          "text": [
            "+------+----------+---------------+--------------------+--------------------+--------------------+--------------------+--------------------+--------------------+\n",
            "|ticker|      date|           code|                open|                high|                 low|               close|            adjclose|              volume|\n",
            "+------+----------+---------------+--------------------+--------------------+--------------------+--------------------+--------------------+--------------------+\n",
            "|  AAPL|1985-03-18|AAPL_1985-03-18|0.102121002972126000|0.103237003087997400|0.102121002972126000|0.102121002972126000|0.079707682132720900|124768000.0000000...|\n",
            "|  AAPL|1985-03-19|AAPL_1985-03-19|0.102121002972126000|0.103237003087997400|0.098214000463485700|0.098214000463485700|0.076658204197883600|171449600.0000000...|\n",
            "|  AAPL|1985-03-20|AAPL_1985-03-20|0.099330000579357100|0.101003997027873900|0.099330000579357100|0.099330000579357100|0.077529251575469900|404969600.0000000...|\n",
            "|  AAPL|1985-03-21|AAPL_1985-03-21|0.101003997027873900|0.102678999304771400|0.101003997027873900|0.101003997027873900|0.078835859894752500|162467200.0000000...|\n",
            "|  AAPL|1985-03-22|AAPL_1985-03-22|0.101003997027873900|0.102678999304771400|0.099330000579357100|0.099330000579357100|0.077529251575469900|80371200.00000000...|\n",
            "|  AAPL|1985-03-25|AAPL_1985-03-25|0.099330000579357100|0.099330000579357100|0.096539996564388200|0.096539996564388200|0.075351573526859200|109961600.0000000...|\n",
            "|  AAPL|1985-03-26|AAPL_1985-03-26|0.100446000695228500|0.100446000695228500|0.100446000695228500|0.100446000695228500|0.078400321304798100|121430400.0000000...|\n",
            "|  AAPL|1985-03-27|AAPL_1985-03-27|0.100446000695228500|0.101562999188900000|0.097655996680259700|0.097655996680259700|0.076222628355026200|111350400.0000000...|\n",
            "|  AAPL|1985-03-28|AAPL_1985-03-28|0.097655996680259700|0.099330000579357100|0.097655996680259700|0.097655996680259700|0.076222628355026200|129606400.0000000...|\n",
            "|  AAPL|1985-03-29|AAPL_1985-03-29|0.097655996680259700|0.099330000579357100|0.097655996680259700|0.098771996796131100|0.077093742787837900|87180800.00000000...|\n",
            "|  AAPL|1985-04-01|AAPL_1985-04-01|0.098771996796131100|0.101003997027873900|0.096539996564388200|0.096539996564388200|0.075351573526859200|114060800.0000000...|\n",
            "|  AAPL|1985-04-02|AAPL_1985-04-02|0.096539996564388200|0.097098000347614200|0.093750000000000000|0.093750000000000000|0.073173955082893300|227427200.0000000...|\n",
            "|  AAPL|1985-04-03|AAPL_1985-04-03|0.093750000000000000|0.094307996332645400|0.093750000000000000|0.093750000000000000|0.073173955082893300|242659200.0000000...|\n",
            "|  AAPL|1985-04-04|AAPL_1985-04-04|0.093750000000000000|0.094307996332645400|0.092076003551483100|0.093192003667354500|0.072738401591777800|161862400.0000000...|\n",
            "|  AAPL|1985-04-08|AAPL_1985-04-08|0.093192003667354500|0.093750000000000000|0.087612003087997400|0.087612003087997400|0.068383134901523500|198732800.0000000...|\n",
            "|  AAPL|1985-04-09|AAPL_1985-04-09|0.087612003087997400|0.088169999420642800|0.087612003087997400|0.087612003087997400|0.068383134901523500|263894400.0000000...|\n",
            "|  AAPL|1985-04-10|AAPL_1985-04-10|0.093750000000000000|0.094866000115871400|0.093750000000000000|0.093750000000000000|0.073173955082893300|226912000.0000000...|\n",
            "|  AAPL|1985-04-11|AAPL_1985-04-11|0.095423996448516800|0.098214000463485700|0.095423996448516800|0.095423996448516800|0.074480541050434100|146675200.0000000...|\n",
            "|  AAPL|1985-04-12|AAPL_1985-04-12|0.095423996448516800|0.095423996448516800|0.092633999884128500|0.093192003667354500|0.072738401591777800|72531200.00000000...|\n",
            "|  AAPL|1985-04-15|AAPL_1985-04-15|0.095423996448516800|0.096539996564388200|0.095423996448516800|0.095423996448516800|0.074480541050434100|59830400.00000000...|\n",
            "+------+----------+---------------+--------------------+--------------------+--------------------+--------------------+--------------------+--------------------+\n",
            "only showing top 20 rows\n",
            "\n"
          ]
        }
      ]
    },
    {
      "cell_type": "code",
      "source": [
        "# stock_df.show()"
      ],
      "metadata": {
        "id": "zCnoUSzrm1UO"
      },
      "execution_count": null,
      "outputs": []
    },
    {
      "cell_type": "code",
      "source": [
        "companies_df = spark.read.jdbc(url=jdbc_url, table='tickers', properties=config)"
      ],
      "metadata": {
        "id": "eRMmVJfvgg3j"
      },
      "execution_count": 9,
      "outputs": []
    },
    {
      "cell_type": "code",
      "source": [
        "companies_df.show()"
      ],
      "metadata": {
        "colab": {
          "base_uri": "https://localhost:8080/"
        },
        "id": "rPQQOv8Gmu-Q",
        "outputId": "6688be86-67e8-407b-83f6-8de9bf541613"
      },
      "execution_count": 10,
      "outputs": [
        {
          "output_type": "stream",
          "name": "stdout",
          "text": [
            "+---+------+--------------------+--------------------+--------------------+--------------------+----------------+-------+-----------+\n",
            "| id|symbol|            security|         gics_sector| gics_sub_industries|        headquarters|date_first_added|    cik|    founded|\n",
            "+---+------+--------------------+--------------------+--------------------+--------------------+----------------+-------+-----------+\n",
            "|  1|   MMM|                  3M|         Industrials|Industrial Conglo...|Saint Paul, Minne...|      1976-08-09|  66740|       1902|\n",
            "|  2|   AOS|         A. O. Smith|         Industrials|   Building Products|Milwaukee, Wisconsin|      2017-07-26|  91142|       1916|\n",
            "|  3|   ABT|              Abbott|         Health Care|Health Care Equip...|North Chicago, Il...|      1964-03-31|   1800|       1888|\n",
            "|  4|  ABBV|              AbbVie|         Health Care|     Pharmaceuticals|North Chicago, Il...|      2012-12-31|1551152|2013 (1888)|\n",
            "|  5|  ABMD|             Abiomed|         Health Care|Health Care Equip...|Danvers, Massachu...|      2018-05-31| 815094|       1981|\n",
            "|  6|   ACN|           Accenture|Information Techn...|IT Consulting & O...|     Dublin, Ireland|      2011-07-06|1467373|       1989|\n",
            "|  7|  ATVI| Activision Blizzard|Communication Ser...|Interactive Home ...|Santa Monica, Cal...|      2015-08-31| 718877|       2008|\n",
            "|  8|   ADM|                 ADM|    Consumer Staples|Agricultural Prod...|   Chicago, Illinois|      1981-07-29|   7084|       1902|\n",
            "|  9|  ADBE|          Adobe Inc.|Information Techn...|Application Software|San Jose, California|      1997-05-05| 796343|       1982|\n",
            "| 10|   ADP|                 ADP|Information Techn...|Data Processing &...|Roseland, New Jersey|      1981-03-31|   8670|       1949|\n",
            "| 11|   AAP|  Advance Auto Parts|Consumer Discreti...|   Automotive Retail|Raleigh, North Ca...|      2015-07-09|1158449|       1932|\n",
            "| 12|   AES|     AES Corporation|           Utilities|Independent Power...| Arlington, Virginia|      1998-10-02| 874761|       1981|\n",
            "| 13|   AFL|               Aflac|          Financials|Life & Health Ins...|   Columbus, Georgia|      1999-05-28|   4977|       1955|\n",
            "| 14|     A|Agilent Technologies|         Health Care|Health Care Equip...|Santa Clara, Cali...|      2000-06-05|1090872|       1999|\n",
            "| 15|   APD|Air Products and ...|           Materials|    Industrial Gases|Allentown, Pennsy...|      1985-04-30|   2969|       1940|\n",
            "| 16|  AKAM|              Akamai|Information Techn...|Internet Services...|Cambridge, Massac...|      2007-07-12|1086222|       1998|\n",
            "| 17|   ALK|    Alaska Air Group|         Industrials|            Airlines|  SeaTac, Washington|      2016-05-13| 766421|       1985|\n",
            "| 18|   ALB|Albemarle Corpora...|           Materials| Specialty Chemicals|Charlotte, North ...|      2016-07-01| 915913|       1994|\n",
            "| 19|   ARE|Alexandria Real E...|         Real Estate|        Office REITs|Pasadena, California|      2017-03-20|1035443|       1994|\n",
            "| 20|  ALGN|    Align Technology|         Health Care|Health Care Supplies|San Jose, California|      2017-06-19|1097149|       1997|\n",
            "+---+------+--------------------+--------------------+--------------------+--------------------+----------------+-------+-----------+\n",
            "only showing top 20 rows\n",
            "\n"
          ]
        }
      ]
    },
    {
      "cell_type": "code",
      "source": [
        "stock_df.printSchema()"
      ],
      "metadata": {
        "colab": {
          "base_uri": "https://localhost:8080/"
        },
        "id": "0PVDBmoigg7j",
        "outputId": "ba093810-350d-41f8-ee03-e5f01c3a53ab"
      },
      "execution_count": null,
      "outputs": [
        {
          "output_type": "stream",
          "name": "stdout",
          "text": [
            "root\n",
            " |-- ticker: string (nullable = true)\n",
            " |-- date: date (nullable = true)\n",
            " |-- code: string (nullable = true)\n",
            " |-- open: decimal(38,18) (nullable = true)\n",
            " |-- high: decimal(38,18) (nullable = true)\n",
            " |-- low: decimal(38,18) (nullable = true)\n",
            " |-- close: decimal(38,18) (nullable = true)\n",
            " |-- adjclose: decimal(38,18) (nullable = true)\n",
            " |-- volume: decimal(38,18) (nullable = true)\n",
            "\n"
          ]
        }
      ]
    },
    {
      "cell_type": "code",
      "source": [
        "companies_df.printSchema()"
      ],
      "metadata": {
        "colab": {
          "base_uri": "https://localhost:8080/"
        },
        "id": "gnDgaH7Vgg-j",
        "outputId": "a5be994c-8bb4-406e-8081-2ee685335213"
      },
      "execution_count": null,
      "outputs": [
        {
          "output_type": "stream",
          "name": "stdout",
          "text": [
            "root\n",
            " |-- id: integer (nullable = true)\n",
            " |-- symbol: string (nullable = true)\n",
            " |-- security: string (nullable = true)\n",
            " |-- gics_sector: string (nullable = true)\n",
            " |-- gics_sub_industries: string (nullable = true)\n",
            " |-- headquarters: string (nullable = true)\n",
            " |-- date_first_added: string (nullable = true)\n",
            " |-- cik: integer (nullable = true)\n",
            " |-- founded: string (nullable = true)\n",
            "\n"
          ]
        }
      ]
    },
    {
      "cell_type": "code",
      "source": [
        "df = spark.sql(\"SELECT ticker, date, code, adjclose, volume FROM stocks\")"
      ],
      "metadata": {
        "id": "dfulMQ0PghEj"
      },
      "execution_count": null,
      "outputs": []
    },
    {
      "cell_type": "code",
      "source": [
        "df.show()"
      ],
      "metadata": {
        "colab": {
          "base_uri": "https://localhost:8080/"
        },
        "id": "TqMvZsBIiPlZ",
        "outputId": "ff6700ef-89bb-49c8-875f-178f2b3fa432"
      },
      "execution_count": null,
      "outputs": [
        {
          "output_type": "stream",
          "name": "stdout",
          "text": [
            "+------+----------+--------------+--------------------+--------------------+\n",
            "|ticker|      date|          code|            adjclose|              volume|\n",
            "+------+----------+--------------+--------------------+--------------------+\n",
            "|   MOS|1989-11-02|MOS_1989-11-02|10.94354820251464...|142800.0000000000...|\n",
            "|   MOS|1989-11-03|MOS_1989-11-03|10.94354820251464...|22000.00000000000...|\n",
            "|   MOS|1989-11-06|MOS_1989-11-06|10.90209579467773...|224800.0000000000...|\n",
            "|   MOS|1989-11-07|MOS_1989-11-07|10.77773571014404...|671600.0000000000...|\n",
            "|   MOS|1989-11-08|MOS_1989-11-08|10.86064243316650...|63800.00000000000...|\n",
            "|   MOS|1989-11-09|MOS_1989-11-09|10.73628330230712...|54000.00000000000...|\n",
            "|   MOS|1989-11-10|MOS_1989-11-10|10.69482898712158...|353800.0000000000...|\n",
            "|   MOS|1989-11-13|MOS_1989-11-13|10.69482898712158...|79600.00000000000...|\n",
            "|   MOS|1989-11-14|MOS_1989-11-14|10.69482898712158...|21800.00000000000...|\n",
            "|   MOS|1989-11-15|MOS_1989-11-15|10.65338325500488...|76200.00000000000...|\n",
            "|   MOS|1989-11-16|MOS_1989-11-16|10.61192512512207...|161600.0000000000...|\n",
            "|   MOS|1989-11-17|MOS_1989-11-17|10.61192512512207...|165000.0000000000...|\n",
            "|   MOS|1989-11-20|MOS_1989-11-20|10.52902030944824...|426400.0000000000...|\n",
            "|   MOS|1989-11-21|MOS_1989-11-21|10.52902030944824...|40800.00000000000...|\n",
            "|   MOS|1989-11-22|MOS_1989-11-22|10.52902030944824...|114800.0000000000...|\n",
            "|   MOS|1989-11-24|MOS_1989-11-24|10.48756599426269...|63000.00000000000...|\n",
            "|   MOS|1989-11-27|MOS_1989-11-27|10.48756599426269...|117800.0000000000...|\n",
            "|   MOS|1989-11-28|MOS_1989-11-28|10.44611358642578...|62400.00000000000...|\n",
            "|   MOS|1989-11-29|MOS_1989-11-29|10.69482898712158...|221200.0000000000...|\n",
            "|   MOS|1989-11-30|MOS_1989-11-30|10.44611358642578...|51600.00000000000...|\n",
            "+------+----------+--------------+--------------------+--------------------+\n",
            "only showing top 20 rows\n",
            "\n"
          ]
        }
      ]
    },
    {
      "cell_type": "code",
      "source": [
        "import pandas as pg\n",
        "import numpy as np"
      ],
      "metadata": {
        "id": "F_KmUnmc6mZN"
      },
      "execution_count": 23,
      "outputs": []
    },
    {
      "cell_type": "code",
      "source": [
        "df2=stock_df.filter( (stock_df[\"date\"] >= '2001-01-01') | (stock_df['date'] <= '2022-07-15'))"
      ],
      "metadata": {
        "id": "5Pxg4y6E6mcM"
      },
      "execution_count": 21,
      "outputs": []
    },
    {
      "cell_type": "code",
      "source": [
        "df2.show()"
      ],
      "metadata": {
        "colab": {
          "base_uri": "https://localhost:8080/",
          "height": 871
        },
        "id": "sc25DfAi6mfK",
        "outputId": "d9365c45-8f15-4708-f1c1-83cb55b0ae3d"
      },
      "execution_count": 22,
      "outputs": [
        {
          "output_type": "error",
          "ename": "Py4JJavaError",
          "evalue": "ignored",
          "traceback": [
            "\u001b[0;31m---------------------------------------------------------------------------\u001b[0m",
            "\u001b[0;31mPy4JJavaError\u001b[0m                             Traceback (most recent call last)",
            "\u001b[0;32m<ipython-input-22-1d45a0548e2e>\u001b[0m in \u001b[0;36m<module>\u001b[0;34m()\u001b[0m\n\u001b[0;32m----> 1\u001b[0;31m \u001b[0mdf2\u001b[0m\u001b[0;34m.\u001b[0m\u001b[0mshow\u001b[0m\u001b[0;34m(\u001b[0m\u001b[0;34m)\u001b[0m\u001b[0;34m\u001b[0m\u001b[0;34m\u001b[0m\u001b[0m\n\u001b[0m",
            "\u001b[0;32m/content/spark-3.0.3-bin-hadoop2.7/python/pyspark/sql/dataframe.py\u001b[0m in \u001b[0;36mshow\u001b[0;34m(self, n, truncate, vertical)\u001b[0m\n\u001b[1;32m    438\u001b[0m         \"\"\"\n\u001b[1;32m    439\u001b[0m         \u001b[0;32mif\u001b[0m \u001b[0misinstance\u001b[0m\u001b[0;34m(\u001b[0m\u001b[0mtruncate\u001b[0m\u001b[0;34m,\u001b[0m \u001b[0mbool\u001b[0m\u001b[0;34m)\u001b[0m \u001b[0;32mand\u001b[0m \u001b[0mtruncate\u001b[0m\u001b[0;34m:\u001b[0m\u001b[0;34m\u001b[0m\u001b[0;34m\u001b[0m\u001b[0m\n\u001b[0;32m--> 440\u001b[0;31m             \u001b[0mprint\u001b[0m\u001b[0;34m(\u001b[0m\u001b[0mself\u001b[0m\u001b[0;34m.\u001b[0m\u001b[0m_jdf\u001b[0m\u001b[0;34m.\u001b[0m\u001b[0mshowString\u001b[0m\u001b[0;34m(\u001b[0m\u001b[0mn\u001b[0m\u001b[0;34m,\u001b[0m \u001b[0;36m20\u001b[0m\u001b[0;34m,\u001b[0m \u001b[0mvertical\u001b[0m\u001b[0;34m)\u001b[0m\u001b[0;34m)\u001b[0m\u001b[0;34m\u001b[0m\u001b[0;34m\u001b[0m\u001b[0m\n\u001b[0m\u001b[1;32m    441\u001b[0m         \u001b[0;32melse\u001b[0m\u001b[0;34m:\u001b[0m\u001b[0;34m\u001b[0m\u001b[0;34m\u001b[0m\u001b[0m\n\u001b[1;32m    442\u001b[0m             \u001b[0mprint\u001b[0m\u001b[0;34m(\u001b[0m\u001b[0mself\u001b[0m\u001b[0;34m.\u001b[0m\u001b[0m_jdf\u001b[0m\u001b[0;34m.\u001b[0m\u001b[0mshowString\u001b[0m\u001b[0;34m(\u001b[0m\u001b[0mn\u001b[0m\u001b[0;34m,\u001b[0m \u001b[0mint\u001b[0m\u001b[0;34m(\u001b[0m\u001b[0mtruncate\u001b[0m\u001b[0;34m)\u001b[0m\u001b[0;34m,\u001b[0m \u001b[0mvertical\u001b[0m\u001b[0;34m)\u001b[0m\u001b[0;34m)\u001b[0m\u001b[0;34m\u001b[0m\u001b[0;34m\u001b[0m\u001b[0m\n",
            "\u001b[0;32m/content/spark-3.0.3-bin-hadoop2.7/python/lib/py4j-0.10.9-src.zip/py4j/java_gateway.py\u001b[0m in \u001b[0;36m__call__\u001b[0;34m(self, *args)\u001b[0m\n\u001b[1;32m   1303\u001b[0m         \u001b[0manswer\u001b[0m \u001b[0;34m=\u001b[0m \u001b[0mself\u001b[0m\u001b[0;34m.\u001b[0m\u001b[0mgateway_client\u001b[0m\u001b[0;34m.\u001b[0m\u001b[0msend_command\u001b[0m\u001b[0;34m(\u001b[0m\u001b[0mcommand\u001b[0m\u001b[0;34m)\u001b[0m\u001b[0;34m\u001b[0m\u001b[0;34m\u001b[0m\u001b[0m\n\u001b[1;32m   1304\u001b[0m         return_value = get_return_value(\n\u001b[0;32m-> 1305\u001b[0;31m             answer, self.gateway_client, self.target_id, self.name)\n\u001b[0m\u001b[1;32m   1306\u001b[0m \u001b[0;34m\u001b[0m\u001b[0m\n\u001b[1;32m   1307\u001b[0m         \u001b[0;32mfor\u001b[0m \u001b[0mtemp_arg\u001b[0m \u001b[0;32min\u001b[0m \u001b[0mtemp_args\u001b[0m\u001b[0;34m:\u001b[0m\u001b[0;34m\u001b[0m\u001b[0;34m\u001b[0m\u001b[0m\n",
            "\u001b[0;32m/content/spark-3.0.3-bin-hadoop2.7/python/pyspark/sql/utils.py\u001b[0m in \u001b[0;36mdeco\u001b[0;34m(*a, **kw)\u001b[0m\n\u001b[1;32m    126\u001b[0m     \u001b[0;32mdef\u001b[0m \u001b[0mdeco\u001b[0m\u001b[0;34m(\u001b[0m\u001b[0;34m*\u001b[0m\u001b[0ma\u001b[0m\u001b[0;34m,\u001b[0m \u001b[0;34m**\u001b[0m\u001b[0mkw\u001b[0m\u001b[0;34m)\u001b[0m\u001b[0;34m:\u001b[0m\u001b[0;34m\u001b[0m\u001b[0;34m\u001b[0m\u001b[0m\n\u001b[1;32m    127\u001b[0m         \u001b[0;32mtry\u001b[0m\u001b[0;34m:\u001b[0m\u001b[0;34m\u001b[0m\u001b[0;34m\u001b[0m\u001b[0m\n\u001b[0;32m--> 128\u001b[0;31m             \u001b[0;32mreturn\u001b[0m \u001b[0mf\u001b[0m\u001b[0;34m(\u001b[0m\u001b[0;34m*\u001b[0m\u001b[0ma\u001b[0m\u001b[0;34m,\u001b[0m \u001b[0;34m**\u001b[0m\u001b[0mkw\u001b[0m\u001b[0;34m)\u001b[0m\u001b[0;34m\u001b[0m\u001b[0;34m\u001b[0m\u001b[0m\n\u001b[0m\u001b[1;32m    129\u001b[0m         \u001b[0;32mexcept\u001b[0m \u001b[0mpy4j\u001b[0m\u001b[0;34m.\u001b[0m\u001b[0mprotocol\u001b[0m\u001b[0;34m.\u001b[0m\u001b[0mPy4JJavaError\u001b[0m \u001b[0;32mas\u001b[0m \u001b[0me\u001b[0m\u001b[0;34m:\u001b[0m\u001b[0;34m\u001b[0m\u001b[0;34m\u001b[0m\u001b[0m\n\u001b[1;32m    130\u001b[0m             \u001b[0mconverted\u001b[0m \u001b[0;34m=\u001b[0m \u001b[0mconvert_exception\u001b[0m\u001b[0;34m(\u001b[0m\u001b[0me\u001b[0m\u001b[0;34m.\u001b[0m\u001b[0mjava_exception\u001b[0m\u001b[0;34m)\u001b[0m\u001b[0;34m\u001b[0m\u001b[0;34m\u001b[0m\u001b[0m\n",
            "\u001b[0;32m/content/spark-3.0.3-bin-hadoop2.7/python/lib/py4j-0.10.9-src.zip/py4j/protocol.py\u001b[0m in \u001b[0;36mget_return_value\u001b[0;34m(answer, gateway_client, target_id, name)\u001b[0m\n\u001b[1;32m    326\u001b[0m                 raise Py4JJavaError(\n\u001b[1;32m    327\u001b[0m                     \u001b[0;34m\"An error occurred while calling {0}{1}{2}.\\n\"\u001b[0m\u001b[0;34m.\u001b[0m\u001b[0;34m\u001b[0m\u001b[0;34m\u001b[0m\u001b[0m\n\u001b[0;32m--> 328\u001b[0;31m                     format(target_id, \".\", name), value)\n\u001b[0m\u001b[1;32m    329\u001b[0m             \u001b[0;32melse\u001b[0m\u001b[0;34m:\u001b[0m\u001b[0;34m\u001b[0m\u001b[0;34m\u001b[0m\u001b[0m\n\u001b[1;32m    330\u001b[0m                 raise Py4JError(\n",
            "\u001b[0;31mPy4JJavaError\u001b[0m: An error occurred while calling o85.showString.\n: java.lang.IllegalStateException: SparkContext has been shutdown\n\tat org.apache.spark.SparkContext.runJob(SparkContext.scala:2106)\n\tat org.apache.spark.SparkContext.runJob(SparkContext.scala:2135)\n\tat org.apache.spark.SparkContext.runJob(SparkContext.scala:2154)\n\tat org.apache.spark.sql.execution.SparkPlan.executeTake(SparkPlan.scala:472)\n\tat org.apache.spark.sql.execution.SparkPlan.executeTake(SparkPlan.scala:425)\n\tat org.apache.spark.sql.execution.CollectLimitExec.executeCollect(limit.scala:47)\n\tat org.apache.spark.sql.Dataset.collectFromPlan(Dataset.scala:3627)\n\tat org.apache.spark.sql.Dataset.$anonfun$head$1(Dataset.scala:2697)\n\tat org.apache.spark.sql.Dataset.$anonfun$withAction$1(Dataset.scala:3618)\n\tat org.apache.spark.sql.execution.SQLExecution$.$anonfun$withNewExecutionId$5(SQLExecution.scala:100)\n\tat org.apache.spark.sql.execution.SQLExecution$.withSQLConfPropagated(SQLExecution.scala:160)\n\tat org.apache.spark.sql.execution.SQLExecution$.$anonfun$withNewExecutionId$1(SQLExecution.scala:87)\n\tat org.apache.spark.sql.SparkSession.withActive(SparkSession.scala:767)\n\tat org.apache.spark.sql.execution.SQLExecution$.withNewExecutionId(SQLExecution.scala:64)\n\tat org.apache.spark.sql.Dataset.withAction(Dataset.scala:3616)\n\tat org.apache.spark.sql.Dataset.head(Dataset.scala:2697)\n\tat org.apache.spark.sql.Dataset.take(Dataset.scala:2904)\n\tat org.apache.spark.sql.Dataset.getRows(Dataset.scala:300)\n\tat org.apache.spark.sql.Dataset.showString(Dataset.scala:337)\n\tat java.base/jdk.internal.reflect.NativeMethodAccessorImpl.invoke0(Native Method)\n\tat java.base/jdk.internal.reflect.NativeMethodAccessorImpl.invoke(NativeMethodAccessorImpl.java:62)\n\tat java.base/jdk.internal.reflect.DelegatingMethodAccessorImpl.invoke(DelegatingMethodAccessorImpl.java:43)\n\tat java.base/java.lang.reflect.Method.invoke(Method.java:566)\n\tat py4j.reflection.MethodInvoker.invoke(MethodInvoker.java:244)\n\tat py4j.reflection.ReflectionEngine.invoke(ReflectionEngine.java:357)\n\tat py4j.Gateway.invoke(Gateway.java:282)\n\tat py4j.commands.AbstractCommand.invokeMethod(AbstractCommand.java:132)\n\tat py4j.commands.CallCommand.execute(CallCommand.java:79)\n\tat py4j.GatewayConnection.run(GatewayConnection.java:238)\n\tat java.base/java.lang.Thread.run(Thread.java:829)\n"
          ]
        }
      ]
    }
  ],
  "metadata": {
    "colab": {
      "name": "Stock_ETL_S3_RDS.ipynb",
      "provenance": []
    },
    "kernelspec": {
      "display_name": "Python 3",
      "language": "python",
      "name": "python3"
    },
    "language_info": {
      "codemirror_mode": {
        "name": "ipython",
        "version": 3
      },
      "file_extension": ".py",
      "mimetype": "text/x-python",
      "name": "python",
      "nbconvert_exporter": "python",
      "pygments_lexer": "ipython3",
      "version": "3.7.7"
    },
    "latex_envs": {
      "LaTeX_envs_menu_present": true,
      "autoclose": false,
      "autocomplete": true,
      "bibliofile": "biblio.bib",
      "cite_by": "apalike",
      "current_citInitial": 1,
      "eqLabelWithNumbers": true,
      "eqNumInitial": 1,
      "hotkeys": {
        "equation": "Ctrl-E",
        "itemize": "Ctrl-I"
      },
      "labels_anchors": false,
      "latex_user_defs": false,
      "report_style_numbering": false,
      "user_envs_cfg": false
    }
  },
  "nbformat": 4,
  "nbformat_minor": 0
}