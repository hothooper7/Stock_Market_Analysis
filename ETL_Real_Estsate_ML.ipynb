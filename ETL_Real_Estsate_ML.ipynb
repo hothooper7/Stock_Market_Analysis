{
 "cells": [
  {
   "cell_type": "code",
   "execution_count": null,
   "id": "85ea4e1d",
   "metadata": {},
   "outputs": [],
   "source": [
    "# To check the current working directory\n",
    "import os\n",
    "os.getcwd()"
   ]
  },
  {
   "cell_type": "code",
   "execution_count": null,
   "id": "db512522",
   "metadata": {},
   "outputs": [],
   "source": [
    "# To change and check the current working directory\n",
    "os.chdir('/Users/wimal/Documents/DataScience/UNC_Bootcamp/Project/')\n",
    "os.getcwd()"
   ]
  },
  {
   "cell_type": "code",
   "execution_count": null,
   "id": "1e4be1a7",
   "metadata": {},
   "outputs": [],
   "source": [
    "# Import our dependencies\n",
    "import pandas as pd\n",
    "import numpy as np\n",
    "import csv\n",
    "import re\n",
    "import pandas_datareader.data as pdr\n",
    "import datetime as dt\n",
    "from sqlalchemy import create_engine\n",
    "import psycopg2\n",
    "\n",
    "from config import db_password\n",
    "import requests\n",
    "import pickle\n",
    "from bs4 import BeautifulSoup as bs\n",
    "\n",
    "import matplotlib.pyplot as plt\n",
    "%matplotlib inline\n",
    "import time\n",
    "from collections import Counter"
   ]
  },
  {
   "cell_type": "code",
   "execution_count": null,
   "id": "564b09f6",
   "metadata": {},
   "outputs": [],
   "source": [
    "import bs4 as bs\n",
    "import datetime as dt\n",
    "import os\n",
    "from pandas_datareader import data as pdr\n",
    "import pickle\n",
    "import requests\n",
    "import fix_yahoo_finance as yf\n",
    "from collections import Counter\n",
    "\n",
    "\n",
    "yf.pdr_override('tickers')\n",
    "\n",
    "def save_sp500_tickers():\n",
    "    resp = requests.get('http://en.wikipedia.org/wiki/List_of_S%26P_500_companies')\n",
    "    soup = bs.BeautifulSoup(resp.text, 'lxml')\n",
    "    table = soup.find('table', {'class': 'wikitable sortable'})\n",
    "    tickers = []\n",
    "    for row in table.findAll('tr')[1:]:\n",
    "        ticker = row.findAll('td')[0].text.replace('.', '-')\n",
    "        ticker = ticker[:-1]\n",
    "        tickers.append(ticker)\n",
    "    with open(\"sp500tickers.pickle\", \"wb\") as f:\n",
    "        pickle.dump(tickers, f)\n",
    "    return tickers\n",
    "\n",
    "\n",
    "# save_sp500_tickers()\n",
    "def get_data_from_yahoo(reload_sp500=False):\n",
    "    if reload_sp500:\n",
    "        tickers = save_sp500_tickers()\n",
    "    else:\n",
    "        with open(\"sp500tickers.pickle\", \"rb\") as f:\n",
    "            tickers = pickle.load(f)\n",
    "    if not os.path.exists('stock_dfs'):\n",
    "        os.makedirs('stock_dfs')\n",
    "    start = dt.datetime(2020, 1, 1)\n",
    "    end = dt.datetime.now()\n",
    "    for ticker in tickers:\n",
    "        try:\n",
    "            print(ticker)\n",
    "            if not os.path.exists('stock_dfs/{}.csv'.format(ticker)):\n",
    "                df = pdr.get_data_yahoo(ticker, start, end)\n",
    "                df.reset_index(inplace=True)\n",
    "                df.set_index(\"Date\", inplace=True)\n",
    "                df.to_csv('stock_dfs/{}.csv'.format(ticker))\n",
    "            else:\n",
    "                print('Already have {}'.format(ticker))\n",
    "        except KeyError:\n",
    "            pass\n",
    "\n",
    "save_sp500_tickers()\n",
    "get_data_from_yahoo()"
   ]
  },
  {
   "cell_type": "code",
   "execution_count": null,
   "id": "48991cee",
   "metadata": {},
   "outputs": [],
   "source": [
    "def compile_data():\n",
    "    with open(\"sp500tickers.pickle\", \"rb\") as f:\n",
    "        tickers = pickle.load(f)\n",
    "\n",
    "    main_df = pd.DataFrame()\n",
    "\n",
    "    for count, ticker in enumerate(tickers):\n",
    "        df = pd.read_csv('stock_dfs/{}.csv'.format(ticker))\n",
    "        df.set_index('Date', inplace=True)\n",
    "\n",
    "        df.rename(columns={'Adj Close': ticker}, inplace=True)\n",
    "        df.drop(['Open', 'High', 'Low', 'Close', 'Volume'], 1, inplace=True)\n",
    "\n",
    "        if main_df.empty:\n",
    "            main_df = df\n",
    "        else:\n",
    "            main_df = main_df.join(df, how='outer')\n",
    "\n",
    "        if count % 10 == 0:\n",
    "            print(count)\n",
    "    print(main_df.head())\n",
    "    main_df.to_csv('sp500_joined_closes.csv')\n",
    "\n",
    "\n",
    "compile_data()"
   ]
  },
  {
   "cell_type": "code",
   "execution_count": null,
   "id": "de0e60f7",
   "metadata": {},
   "outputs": [],
   "source": [
    "def visualize_data():\n",
    "    df = pd.read_csv('sp500_joined_closes.csv')\n",
    "    df_corr = df.corr()\n",
    "    print(df_corr.head())\n",
    "    df_corr.to_csv('sp500corr.csv')\n",
    "    data1 = df_corr.values\n",
    "    fig1 = plt.figure()\n",
    "    ax1 = fig1.add_subplot(111)\n",
    "\n",
    "    heatmap1 = ax1.pcolor(data1, cmap=plt.cm.RdYlGn)\n",
    "    fig1.colorbar(heatmap1)\n",
    "\n",
    "    ax1.set_xticks(np.arange(data1.shape[1]) + 0.5, minor=False)\n",
    "    ax1.set_yticks(np.arange(data1.shape[0]) + 0.5, minor=False)\n",
    "    ax1.invert_yaxis()\n",
    "    ax1.xaxis.tick_top()\n",
    "    column_labels = df_corr.columns\n",
    "    row_labels = df_corr.index\n",
    "    ax1.set_xticklabels(column_labels)\n",
    "    ax1.set_yticklabels(row_labels)\n",
    "    plt.xticks(rotation=90)\n",
    "    heatmap1.set_clim(-1, 1)\n",
    "    plt.tight_layout()\n",
    "    plt.show()\n",
    "\n",
    "\n",
    "visualize_data()\n"
   ]
  },
  {
   "cell_type": "code",
   "execution_count": null,
   "id": "0adaa9a8",
   "metadata": {},
   "outputs": [],
   "source": [
    "def process_data_for_labels(ticker):\n",
    "    hm_days = 7\n",
    "    df = pd.read_csv('sp500_joined_closes.csv', index_col=0)\n",
    "    tickers = df.columns.values.tolist()\n",
    "    df.fillna(0, inplace=True)\n",
    "\n",
    "    for i in range(1,hm_days+1):\n",
    "        df['{}_{}d'.format(ticker,i)] = (df[ticker].shift(-i) - df[ticker]) / df[ticker]\n",
    "\n",
    "    df.fillna(0, inplace=True)\n",
    "    return tickers, df"
   ]
  },
  {
   "cell_type": "code",
   "execution_count": null,
   "id": "46eee3c1",
   "metadata": {},
   "outputs": [],
   "source": [
    "def buy_sell_hold(*args):\n",
    "    cols = [c for c in args]\n",
    "    requirement = 0.02\n",
    "    for col in cols:\n",
    "        if col > requirement:\n",
    "            return 1\n",
    "        if col < -requirement:\n",
    "            return -1\n",
    "    return 0"
   ]
  },
  {
   "cell_type": "code",
   "execution_count": null,
   "id": "2522837b",
   "metadata": {},
   "outputs": [],
   "source": [
    "def extract_featuresets(ticker):\n",
    "    tickers, df = process_data_for_labels(ticker)\n",
    "\n",
    "    df['{}_target'.format(ticker)] = list(map( buy_sell_hold,\n",
    "                                               df['{}_1d'.format(ticker)],\n",
    "                                               df['{}_2d'.format(ticker)],\n",
    "                                               df['{}_3d'.format(ticker)],\n",
    "                                               df['{}_4d'.format(ticker)],\n",
    "                                               df['{}_5d'.format(ticker)],\n",
    "                                               df['{}_6d'.format(ticker)],\n",
    "                                               df['{}_7d'.format(ticker)]))\n",
    "\n",
    "    vals = df['{}_target'.format(ticker)].values.tolist()\n",
    "    str_vals = [str(i) for i in vals]\n",
    "    print('Data spread:', Counter(str_vals))\n",
    "\n",
    "    df.fillna(0, inplace=True)\n",
    "    df = df.replace([np.inf, -np.inf], np.nan)\n",
    "    df.dropna(inplace=True)\n",
    "\n",
    "    df_vals = df[[ticker for ticker in tickers]].pct_change()\n",
    "    df_vals = df_vals.replace([np.inf, -np.inf], 0)\n",
    "    df_vals.fillna(0, inplace=True)\n",
    "\n",
    "    X = df_vals.values\n",
    "    y = df['{}_target'.format(ticker)].values\n",
    "    return X, y, df\n",
    "\n",
    "\n",
    "## Machine learning for \"BUYING/ SELLING\"\n",
    "\n",
    "def do_ml(ticker):\n",
    "    from sklearn.model_selection import train_test_split\n",
    "    from sklearn.svm import LinearSVC\n",
    "    from sklearn.neighbors import KNeighborsClassifier\n",
    "    from sklearn.ensemble import RandomForestClassifier, VotingClassifier\n",
    "    X, y, df = extract_featuresets(ticker)\n",
    "\n",
    "    X_train, X_test, y_train, y_test = train_test_split(X, y, test_size=0.25)\n",
    "\n",
    "    clf = VotingClassifier([('lsvc', LinearSVC()),\n",
    "                            ('knn', KNeighborsClassifier()),\n",
    "                            ('rfor', RandomForestClassifier())])\n",
    "    clf.fit(X_train, y_train)\n",
    "    confidence = clf.score(X_test, y_test)\n",
    "    print('accuracy:', confidence)\n",
    "    predictions = clf.predict(X_test)\n",
    "    print('predicted class counts:', Counter(predictions))\n",
    "    print()\n",
    "    print()\n",
    "    return confidence\n",
    "\n",
    "\n",
    "# examples of running:\n",
    "do_ml('XOM')\n",
    "do_ml('AAPL')\n",
    "do_ml('ABT')\n",
    "\n",
    "#We can also run this against all tickers:\n",
    "\n",
    "from statistics import mean\n",
    "\n",
    "with open(\"sp500tickers.pickle\",\"rb\") as f:\n",
    "    tickers = pickle.load(f)\n",
    "\n",
    "accuracies = []\n",
    "for count,ticker in enumerate(tickers):\n",
    "\n",
    "    if count%10==0:\n",
    "        print(count)\n",
    "\n",
    "    accuracy = do_ml(ticker)\n",
    "    accuracies.append(accuracy)\n",
    "    print(\"{} accuracy: {}. Average accuracy:{}\".format(ticker,accuracy,mean(accuracies)))"
   ]
  },
  {
   "cell_type": "code",
   "execution_count": null,
   "id": "39c8e78e",
   "metadata": {},
   "outputs": [],
   "source": [
    "# Pfizer\n",
    "do_ml('PFE')"
   ]
  },
  {
   "cell_type": "code",
   "execution_count": null,
   "id": "0e17ea09",
   "metadata": {},
   "outputs": [],
   "source": [
    "# Gilead\n",
    "do_ml('GILD')"
   ]
  },
  {
   "cell_type": "code",
   "execution_count": null,
   "id": "d34e7242",
   "metadata": {},
   "outputs": [],
   "source": [
    "do_ml(\"LH\")"
   ]
  },
  {
   "cell_type": "code",
   "execution_count": null,
   "id": "06331f99",
   "metadata": {},
   "outputs": [],
   "source": [
    "do_ml(\"CI\")"
   ]
  },
  {
   "cell_type": "code",
   "execution_count": null,
   "id": "e6a90a33",
   "metadata": {},
   "outputs": [],
   "source": [
    "do_ml(\"BIIB\")"
   ]
  },
  {
   "cell_type": "code",
   "execution_count": null,
   "id": "256ec736",
   "metadata": {},
   "outputs": [],
   "source": [
    "do_ml(\"ABT\")"
   ]
  },
  {
   "cell_type": "code",
   "execution_count": null,
   "id": "5a32b378",
   "metadata": {},
   "outputs": [],
   "source": [
    "do_ml(\"UNH\")"
   ]
  },
  {
   "cell_type": "code",
   "execution_count": null,
   "id": "eec44919",
   "metadata": {},
   "outputs": [],
   "source": [
    "do_ml(\"JNJ\")"
   ]
  },
  {
   "cell_type": "code",
   "execution_count": null,
   "id": "43d22159",
   "metadata": {},
   "outputs": [],
   "source": [
    "do_ml(\"AMGN\")"
   ]
  },
  {
   "cell_type": "code",
   "execution_count": null,
   "id": "7bd0a3e2",
   "metadata": {},
   "outputs": [],
   "source": [
    "do_ml(\"BMY\")"
   ]
  },
  {
   "cell_type": "code",
   "execution_count": null,
   "id": "2844e38d",
   "metadata": {},
   "outputs": [],
   "source": [
    "df = pd.read_csv('sp500_joined_closes.csv')"
   ]
  },
  {
   "cell_type": "code",
   "execution_count": null,
   "id": "7cb3c007",
   "metadata": {},
   "outputs": [],
   "source": []
  },
  {
   "cell_type": "code",
   "execution_count": null,
   "id": "550d3b93",
   "metadata": {},
   "outputs": [],
   "source": []
  },
  {
   "cell_type": "code",
   "execution_count": null,
   "id": "1b8fa954",
   "metadata": {},
   "outputs": [],
   "source": [
    "def process_file(f):\n",
    "    with open(\"sp500tickers.pickle\", \"rb\") as f:\n",
    "        tickers = pickle.load(f)\n",
    "\n",
    "    for count, ticker in enumerate(tickers):\n",
    "        df_temp = pd.read_csv('stock_dfs/{}.csv'.format(ticker))\n",
    "        main_df = df.join(df_temp, how = \"outer\")\n",
    "    print(main_df.head())\n",
    "    main_df.to_csv('sp500_joined_closes.csv')\n",
    "\n",
    "\n",
    "compile_data()"
   ]
  },
  {
   "cell_type": "code",
   "execution_count": null,
   "id": "33cdd7e7",
   "metadata": {},
   "outputs": [],
   "source": [
    "main_df"
   ]
  },
  {
   "cell_type": "code",
   "execution_count": null,
   "id": "2c779321",
   "metadata": {},
   "outputs": [],
   "source": [
    "frames = [ process_your_file(f) for f in files ]\n",
    "result = pd.concat(frames)"
   ]
  },
  {
   "cell_type": "code",
   "execution_count": null,
   "id": "2743219c",
   "metadata": {},
   "outputs": [],
   "source": [
    "df_AAPL"
   ]
  },
  {
   "cell_type": "code",
   "execution_count": null,
   "id": "e52fa76b",
   "metadata": {},
   "outputs": [],
   "source": [
    "import glob"
   ]
  },
  {
   "cell_type": "code",
   "execution_count": null,
   "id": "55db975c",
   "metadata": {},
   "outputs": [],
   "source": [
    "path = '/apps/data_csv_files\n",
    "csv_files = glob.glob(path + \"/*.csv\")"
   ]
  },
  {
   "cell_type": "code",
   "execution_count": null,
   "id": "f6f3ca6a",
   "metadata": {},
   "outputs": [],
   "source": [
    "df_list = (pd.read_csv(file) for file in csv_files)"
   ]
  },
  {
   "cell_type": "code",
   "execution_count": null,
   "id": "a17902d2",
   "metadata": {},
   "outputs": [],
   "source": [
    "big_df   = pd.concat(df_list, ignore_index=True)"
   ]
  },
  {
   "cell_type": "code",
   "execution_count": null,
   "id": "7e80c610",
   "metadata": {},
   "outputs": [],
   "source": [
    "path = '/Users/wimal/Documents/DataScience/UNC_Bootcamp/Project/stock_dfs'\n",
    "df = pd.concat(map(pd.read_csv, glob.glob(path + \"/*.csv\")))"
   ]
  },
  {
   "cell_type": "code",
   "execution_count": null,
   "id": "1fa83bab",
   "metadata": {},
   "outputs": [],
   "source": [
    "df"
   ]
  },
  {
   "cell_type": "code",
   "execution_count": null,
   "id": "2e14db03",
   "metadata": {},
   "outputs": [],
   "source": [
    "df.set_index('Date', inplace=True)\n",
    "df.rename(columns={'Adj Close': 'AdjClose'}, inplace=True)\n",
    "df[\"Code\"] = df[[\"Ticker\", \"Date\"]].apply(lambda x: \"_\".join(x), axis = 1)"
   ]
  },
  {
   "cell_type": "code",
   "execution_count": null,
   "id": "a3dde43c",
   "metadata": {},
   "outputs": [],
   "source": [
    "df"
   ]
  },
  {
   "cell_type": "code",
   "execution_count": null,
   "id": "54d805cb",
   "metadata": {},
   "outputs": [],
   "source": [
    "df[\"Code\"] = df[[\"Ticker\", \"Date\"]].apply(lambda x: \"_\".join(x), axis = 1)"
   ]
  },
  {
   "cell_type": "code",
   "execution_count": null,
   "id": "811f9e81",
   "metadata": {},
   "outputs": [],
   "source": []
  }
 ],
 "metadata": {
  "kernelspec": {
   "display_name": "Python 3 (ipykernel)",
   "language": "python",
   "name": "python3"
  },
  "language_info": {
   "codemirror_mode": {
    "name": "ipython",
    "version": 3
   },
   "file_extension": ".py",
   "mimetype": "text/x-python",
   "name": "python",
   "nbconvert_exporter": "python",
   "pygments_lexer": "ipython3",
   "version": "3.9.7"
  },
  "vscode": {
   "interpreter": {
    "hash": "aee8b7b246df8f9039afb4144a1f6fd8d2ca17a180786b69acc140d282b71a49"
   }
  }
 },
 "nbformat": 4,
 "nbformat_minor": 5
}
