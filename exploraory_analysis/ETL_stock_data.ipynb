{
 "cells": [
  {
   "cell_type": "code",
   "execution_count": 1,
   "id": "820117e8",
   "metadata": {},
   "outputs": [
    {
     "data": {
      "text/plain": [
       "'/Users/wimal/Documents/DataScience/UNC/Stock_Market_Analysis/exploraory_analysis'"
      ]
     },
     "execution_count": 1,
     "metadata": {},
     "output_type": "execute_result"
    }
   ],
   "source": [
    "# To check the current working directory\n",
    "import os\n",
    "os.getcwd()"
   ]
  },
  {
   "cell_type": "code",
   "execution_count": 2,
   "id": "6a8cdbf6",
   "metadata": {},
   "outputs": [
    {
     "data": {
      "text/plain": [
       "'/Users/wimal/Documents/DataScience/UNC_Bootcamp/Project'"
      ]
     },
     "execution_count": 2,
     "metadata": {},
     "output_type": "execute_result"
    }
   ],
   "source": [
    "# To change and check the current working directory\n",
    "os.chdir('/Users/wimal/Documents/DataScience/UNC_Bootcamp/Project/')\n",
    "os.getcwd()"
   ]
  },
  {
   "cell_type": "code",
   "execution_count": 3,
   "id": "340f838e",
   "metadata": {},
   "outputs": [],
   "source": [
    "# Import our dependencies\n",
    "import csv\n",
    "import numpy as np\n",
    "import pandas as pd\n",
    "import pandas_datareader.data as web\n",
    "import datetime as dt\n",
    "\n",
    "import requests\n",
    "from bs4 import BeautifulSoup as bs\n",
    "import matplotlib.pyplot as plt\n",
    "%matplotlib inline"
   ]
  },
  {
   "cell_type": "markdown",
   "id": "8ca1a70b",
   "metadata": {},
   "source": [
    "## ETL Webscraping (Wikipedia - S&P 500 Companies)"
   ]
  },
  {
   "cell_type": "code",
   "execution_count": 4,
   "id": "c4a89797",
   "metadata": {},
   "outputs": [
    {
     "name": "stdout",
     "output_type": "stream",
     "text": [
      "<Response [200]>\n"
     ]
    }
   ],
   "source": [
    "url = 'https://en.wikipedia.org/wiki/List_of_S%26P_500_companies'\n",
    "req = requests.get(url)\n",
    "print(req)\n",
    "# <Response[200]>"
   ]
  },
  {
   "cell_type": "code",
   "execution_count": 5,
   "id": "4b22e146",
   "metadata": {},
   "outputs": [
    {
     "data": {
      "text/plain": [
       "bs4.BeautifulSoup"
      ]
     },
     "execution_count": 5,
     "metadata": {},
     "output_type": "execute_result"
    }
   ],
   "source": [
    "soup = bs(req.text, 'html.parser')\n",
    "type(soup)"
   ]
  },
  {
   "cell_type": "code",
   "execution_count": 6,
   "id": "068923d0",
   "metadata": {},
   "outputs": [
    {
     "name": "stdout",
     "output_type": "stream",
     "text": [
      "  Symbol     Security SEC filings  GICS Sector         GICS Sub-Industry  \\\n",
      "0    MMM           3M     reports  Industrials  Industrial Conglomerates   \n",
      "1    AOS  A. O. Smith     reports  Industrials         Building Products   \n",
      "2    ABT       Abbott     reports  Health Care     Health Care Equipment   \n",
      "3   ABBV       AbbVie     reports  Health Care           Pharmaceuticals   \n",
      "4   ABMD      Abiomed     reports  Health Care     Health Care Equipment   \n",
      "\n",
      "     Headquarters Location Date first added      CIK      Founded  \n",
      "0    Saint Paul, Minnesota       1976-08-09    66740         1902  \n",
      "1     Milwaukee, Wisconsin       2017-07-26    91142         1916  \n",
      "2  North Chicago, Illinois       1964-03-31     1800         1888  \n",
      "3  North Chicago, Illinois       2012-12-31  1551152  2013 (1888)  \n",
      "4   Danvers, Massachusetts       2018-05-31   815094         1981  \n"
     ]
    }
   ],
   "source": [
    "table = soup.find(\"table\", class_= \"wikitable sortable\")\n",
    "df=pd.read_html(str(table))\n",
    "# convert list to dataframe\n",
    "df=pd.DataFrame(df[0])\n",
    "print(df.head())"
   ]
  },
  {
   "cell_type": "code",
   "execution_count": 7,
   "id": "cc662257",
   "metadata": {
    "scrolled": true
   },
   "outputs": [
    {
     "name": "stdout",
     "output_type": "stream",
     "text": [
      "  Symbol     Security  GICS_Sector         GICS_Sub_Industry  \\\n",
      "0    MMM           3M  Industrials  Industrial Conglomerates   \n",
      "1    AOS  A. O. Smith  Industrials         Building Products   \n",
      "2    ABT       Abbott  Health Care     Health Care Equipment   \n",
      "3   ABBV       AbbVie  Health Care           Pharmaceuticals   \n",
      "4   ABMD      Abiomed  Health Care     Health Care Equipment   \n",
      "\n",
      "              Headquarters Date_First_Added      CIK      Founded  \n",
      "0    Saint Paul, Minnesota       1976-08-09    66740         1902  \n",
      "1     Milwaukee, Wisconsin       2017-07-26    91142         1916  \n",
      "2  North Chicago, Illinois       1964-03-31     1800         1888  \n",
      "3  North Chicago, Illinois       2012-12-31  1551152  2013 (1888)  \n",
      "4   Danvers, Massachusetts       2018-05-31   815094         1981  \n"
     ]
    }
   ],
   "source": [
    "companies = df.drop([\"SEC filings\"], axis=1)\n",
    "companies = companies.rename(columns={\"GICS Sector\": \"GICS_Sector\", \"GICS Sub-Industry\": \"GICS_Sub_Industry\",\"Headquarters Location\": \"Headquarters\", \"Date first added\": \"Date_First_Added\"})\n",
    "print(companies.head())"
   ]
  },
  {
   "cell_type": "code",
   "execution_count": 8,
   "id": "14437220",
   "metadata": {},
   "outputs": [],
   "source": [
    "companies.to_csv(\"companies.csv\", index = False)"
   ]
  },
  {
   "cell_type": "code",
   "execution_count": 9,
   "id": "bab2613d",
   "metadata": {},
   "outputs": [],
   "source": [
    "# Note: Companies file can be used to get the list of ALL tickers for automating"
   ]
  },
  {
   "cell_type": "markdown",
   "id": "e5565b66",
   "metadata": {},
   "source": [
    "# ETL Stocks Data (Yahoo Finance)"
   ]
  },
  {
   "cell_type": "code",
   "execution_count": 10,
   "id": "590d7f12",
   "metadata": {},
   "outputs": [],
   "source": [
    "# This is a dataset that is considered as a standard (S&P 500), and it is useful for merging\n",
    "df_SPY = web.DataReader('SPY', 'yahoo', start='2020-01-01', end = dt.datetime.today())"
   ]
  },
  {
   "cell_type": "code",
   "execution_count": 11,
   "id": "493d5e4a",
   "metadata": {},
   "outputs": [],
   "source": [
    "df_Close = df_SPY[\"Close\"]\n",
    "df_Close.name = \"SPY\""
   ]
  },
  {
   "cell_type": "code",
   "execution_count": 13,
   "id": "9e5bcc25",
   "metadata": {},
   "outputs": [
    {
     "data": {
      "text/plain": [
       "Date\n",
       "2020-01-02    324.869995\n",
       "2020-01-03    322.410004\n",
       "2020-01-06    323.640015\n",
       "2020-01-07    322.730011\n",
       "2020-01-08    324.450012\n",
       "                 ...    \n",
       "2022-07-08    388.670013\n",
       "2022-07-11    384.230011\n",
       "2022-07-12    380.829987\n",
       "2022-07-13    378.829987\n",
       "2022-07-14    377.910004\n",
       "Name: SPY, Length: 638, dtype: float64"
      ]
     },
     "execution_count": 13,
     "metadata": {},
     "output_type": "execute_result"
    }
   ],
   "source": [
    "df_Close"
   ]
  },
  {
   "cell_type": "code",
   "execution_count": 15,
   "id": "5a1a66c4",
   "metadata": {},
   "outputs": [],
   "source": [
    "## NOTE: This code is not needed because we do not extract stocks data ALL Tickers. \n",
    "# file_to_load = os.path.join(\"companies.csv\")\n",
    "# symbols = []\n",
    "# with open(file_to_load) as ticker_data:\n",
    "#     reader = csv.reader(ticker_data)\n",
    "#     header = next(reader)\n",
    "#     for row in reader:\n",
    "#         ticker = row[0]\n",
    "#         if ticker not in symbols:\n",
    "#             symbols.append(ticker)\n",
    "# print(symbols)"
   ]
  },
  {
   "cell_type": "code",
   "execution_count": 16,
   "id": "b4a3918e",
   "metadata": {},
   "outputs": [],
   "source": [
    "# NOTE: This script is working. However, it fails after getting some data. Need to work on it. \n",
    "# Perhaps, it is stalling because of the number of requests\n",
    "\n",
    "# for symbol in symbols:\n",
    "#     stock = web.DataReader(symbol, 'yahoo', start='2020-01-01', end = dt.datetime.today())\n",
    "#     stock.to_csv(f\"{symbol}.csv\")\n",
    "    \n",
    "# print(\"Complete\")"
   ]
  },
  {
   "cell_type": "markdown",
   "id": "9fff9805",
   "metadata": {},
   "source": [
    "## 10 Companies in Health Care Sector"
   ]
  },
  {
   "cell_type": "code",
   "execution_count": 24,
   "id": "21054074",
   "metadata": {},
   "outputs": [
    {
     "name": "stdout",
     "output_type": "stream",
     "text": [
      "Complete\n"
     ]
    }
   ],
   "source": [
    "symbols = [\"PFE\", \"LH\", \"CI\", \"BIIB\", \"ABT\", \"GILD\", \"UNH\", \"JNJ\", \"AMGN\", \"BMY\"]\n",
    "\n",
    "for symbol in symbols:\n",
    "    stock = web.DataReader(symbol, 'yahoo', start='2020-01-01', end = dt.datetime.today())\n",
    "    stock.to_csv(f\"{symbol}.csv\")\n",
    "    \n",
    "print(\"Complete\")"
   ]
  },
  {
   "cell_type": "code",
   "execution_count": 25,
   "id": "2524d7cb",
   "metadata": {},
   "outputs": [],
   "source": [
    "# This is a dataset that is considered as a standard (S&P 500), and it is useful for merging\n",
    "df_SPY = web.DataReader('SPY', 'yahoo', start='2020-01-01', end = dt.datetime.today())"
   ]
  },
  {
   "cell_type": "code",
   "execution_count": null,
   "id": "19abae57",
   "metadata": {},
   "outputs": [],
   "source": [
    "df_SPY"
   ]
  },
  {
   "cell_type": "code",
   "execution_count": 36,
   "id": "d689d0ac",
   "metadata": {},
   "outputs": [
    {
     "data": {
      "text/html": [
       "<div>\n",
       "<style scoped>\n",
       "    .dataframe tbody tr th:only-of-type {\n",
       "        vertical-align: middle;\n",
       "    }\n",
       "\n",
       "    .dataframe tbody tr th {\n",
       "        vertical-align: top;\n",
       "    }\n",
       "\n",
       "    .dataframe thead th {\n",
       "        text-align: right;\n",
       "    }\n",
       "</style>\n",
       "<table border=\"1\" class=\"dataframe\">\n",
       "  <thead>\n",
       "    <tr style=\"text-align: right;\">\n",
       "      <th></th>\n",
       "      <th>SPY</th>\n",
       "    </tr>\n",
       "    <tr>\n",
       "      <th>Date</th>\n",
       "      <th></th>\n",
       "    </tr>\n",
       "  </thead>\n",
       "  <tbody>\n",
       "    <tr>\n",
       "      <th>2020-01-02</th>\n",
       "      <td>324.869995</td>\n",
       "    </tr>\n",
       "    <tr>\n",
       "      <th>2020-01-03</th>\n",
       "      <td>322.410004</td>\n",
       "    </tr>\n",
       "    <tr>\n",
       "      <th>2020-01-06</th>\n",
       "      <td>323.640015</td>\n",
       "    </tr>\n",
       "    <tr>\n",
       "      <th>2020-01-07</th>\n",
       "      <td>322.730011</td>\n",
       "    </tr>\n",
       "    <tr>\n",
       "      <th>2020-01-08</th>\n",
       "      <td>324.450012</td>\n",
       "    </tr>\n",
       "    <tr>\n",
       "      <th>...</th>\n",
       "      <td>...</td>\n",
       "    </tr>\n",
       "    <tr>\n",
       "      <th>2022-07-08</th>\n",
       "      <td>388.670013</td>\n",
       "    </tr>\n",
       "    <tr>\n",
       "      <th>2022-07-11</th>\n",
       "      <td>384.230011</td>\n",
       "    </tr>\n",
       "    <tr>\n",
       "      <th>2022-07-12</th>\n",
       "      <td>380.829987</td>\n",
       "    </tr>\n",
       "    <tr>\n",
       "      <th>2022-07-13</th>\n",
       "      <td>378.829987</td>\n",
       "    </tr>\n",
       "    <tr>\n",
       "      <th>2022-07-14</th>\n",
       "      <td>377.910004</td>\n",
       "    </tr>\n",
       "  </tbody>\n",
       "</table>\n",
       "<p>638 rows × 1 columns</p>\n",
       "</div>"
      ],
      "text/plain": [
       "                   SPY\n",
       "Date                  \n",
       "2020-01-02  324.869995\n",
       "2020-01-03  322.410004\n",
       "2020-01-06  323.640015\n",
       "2020-01-07  322.730011\n",
       "2020-01-08  324.450012\n",
       "...                ...\n",
       "2022-07-08  388.670013\n",
       "2022-07-11  384.230011\n",
       "2022-07-12  380.829987\n",
       "2022-07-13  378.829987\n",
       "2022-07-14  377.910004\n",
       "\n",
       "[638 rows x 1 columns]"
      ]
     },
     "execution_count": 36,
     "metadata": {},
     "output_type": "execute_result"
    }
   ],
   "source": [
    "df = df_SPY[[\"Close\"]]\n",
    "df = df.rename(columns = {\"Close\": \"SPY\"})\n",
    "df"
   ]
  },
  {
   "cell_type": "code",
   "execution_count": 42,
   "id": "de132c1b",
   "metadata": {},
   "outputs": [
    {
     "data": {
      "text/html": [
       "<div>\n",
       "<style scoped>\n",
       "    .dataframe tbody tr th:only-of-type {\n",
       "        vertical-align: middle;\n",
       "    }\n",
       "\n",
       "    .dataframe tbody tr th {\n",
       "        vertical-align: top;\n",
       "    }\n",
       "\n",
       "    .dataframe thead th {\n",
       "        text-align: right;\n",
       "    }\n",
       "</style>\n",
       "<table border=\"1\" class=\"dataframe\">\n",
       "  <thead>\n",
       "    <tr style=\"text-align: right;\">\n",
       "      <th></th>\n",
       "      <th>PFE</th>\n",
       "      <th>LH</th>\n",
       "      <th>CI</th>\n",
       "      <th>BIIB</th>\n",
       "      <th>ABT</th>\n",
       "      <th>GILD</th>\n",
       "      <th>UNH</th>\n",
       "      <th>JNJ</th>\n",
       "      <th>AMGN</th>\n",
       "      <th>BMY</th>\n",
       "    </tr>\n",
       "    <tr>\n",
       "      <th>Date</th>\n",
       "      <th></th>\n",
       "      <th></th>\n",
       "      <th></th>\n",
       "      <th></th>\n",
       "      <th></th>\n",
       "      <th></th>\n",
       "      <th></th>\n",
       "      <th></th>\n",
       "      <th></th>\n",
       "      <th></th>\n",
       "    </tr>\n",
       "  </thead>\n",
       "  <tbody>\n",
       "    <tr>\n",
       "      <th>2020-01-02</th>\n",
       "      <td>37.134724</td>\n",
       "      <td>167.479996</td>\n",
       "      <td>204.940002</td>\n",
       "      <td>294.239990</td>\n",
       "      <td>86.949997</td>\n",
       "      <td>65.230003</td>\n",
       "      <td>292.500000</td>\n",
       "      <td>145.970001</td>\n",
       "      <td>240.100006</td>\n",
       "      <td>63.340000</td>\n",
       "    </tr>\n",
       "    <tr>\n",
       "      <th>2020-01-03</th>\n",
       "      <td>36.935486</td>\n",
       "      <td>167.229996</td>\n",
       "      <td>203.179993</td>\n",
       "      <td>290.850006</td>\n",
       "      <td>85.889999</td>\n",
       "      <td>65.070000</td>\n",
       "      <td>289.540009</td>\n",
       "      <td>144.279999</td>\n",
       "      <td>238.470001</td>\n",
       "      <td>62.779999</td>\n",
       "    </tr>\n",
       "    <tr>\n",
       "      <th>2020-01-06</th>\n",
       "      <td>36.888046</td>\n",
       "      <td>169.419998</td>\n",
       "      <td>206.919998</td>\n",
       "      <td>290.820007</td>\n",
       "      <td>86.339996</td>\n",
       "      <td>65.650002</td>\n",
       "      <td>291.549988</td>\n",
       "      <td>144.100006</td>\n",
       "      <td>240.300003</td>\n",
       "      <td>62.980000</td>\n",
       "    </tr>\n",
       "    <tr>\n",
       "      <th>2020-01-07</th>\n",
       "      <td>36.764706</td>\n",
       "      <td>169.160004</td>\n",
       "      <td>207.929993</td>\n",
       "      <td>290.089996</td>\n",
       "      <td>85.860001</td>\n",
       "      <td>65.120003</td>\n",
       "      <td>289.790009</td>\n",
       "      <td>144.979996</td>\n",
       "      <td>238.039993</td>\n",
       "      <td>63.930000</td>\n",
       "    </tr>\n",
       "    <tr>\n",
       "      <th>2020-01-08</th>\n",
       "      <td>37.058823</td>\n",
       "      <td>173.839996</td>\n",
       "      <td>211.410004</td>\n",
       "      <td>292.660004</td>\n",
       "      <td>86.209999</td>\n",
       "      <td>65.800003</td>\n",
       "      <td>295.899994</td>\n",
       "      <td>144.960007</td>\n",
       "      <td>238.220001</td>\n",
       "      <td>63.860001</td>\n",
       "    </tr>\n",
       "    <tr>\n",
       "      <th>...</th>\n",
       "      <td>...</td>\n",
       "      <td>...</td>\n",
       "      <td>...</td>\n",
       "      <td>...</td>\n",
       "      <td>...</td>\n",
       "      <td>...</td>\n",
       "      <td>...</td>\n",
       "      <td>...</td>\n",
       "      <td>...</td>\n",
       "      <td>...</td>\n",
       "    </tr>\n",
       "    <tr>\n",
       "      <th>2022-07-08</th>\n",
       "      <td>53.169998</td>\n",
       "      <td>243.940002</td>\n",
       "      <td>279.190002</td>\n",
       "      <td>218.800003</td>\n",
       "      <td>109.260002</td>\n",
       "      <td>62.840000</td>\n",
       "      <td>518.630005</td>\n",
       "      <td>178.279999</td>\n",
       "      <td>248.479996</td>\n",
       "      <td>75.379997</td>\n",
       "    </tr>\n",
       "    <tr>\n",
       "      <th>2022-07-11</th>\n",
       "      <td>52.889999</td>\n",
       "      <td>242.630005</td>\n",
       "      <td>279.910004</td>\n",
       "      <td>215.259995</td>\n",
       "      <td>108.889999</td>\n",
       "      <td>62.660000</td>\n",
       "      <td>516.950012</td>\n",
       "      <td>178.350006</td>\n",
       "      <td>247.779999</td>\n",
       "      <td>75.559998</td>\n",
       "    </tr>\n",
       "    <tr>\n",
       "      <th>2022-07-12</th>\n",
       "      <td>52.040001</td>\n",
       "      <td>239.910004</td>\n",
       "      <td>279.350006</td>\n",
       "      <td>215.580002</td>\n",
       "      <td>108.300003</td>\n",
       "      <td>62.340000</td>\n",
       "      <td>514.419983</td>\n",
       "      <td>175.850006</td>\n",
       "      <td>246.970001</td>\n",
       "      <td>75.010002</td>\n",
       "    </tr>\n",
       "    <tr>\n",
       "      <th>2022-07-13</th>\n",
       "      <td>51.790001</td>\n",
       "      <td>240.289993</td>\n",
       "      <td>273.750000</td>\n",
       "      <td>214.529999</td>\n",
       "      <td>106.209999</td>\n",
       "      <td>62.459999</td>\n",
       "      <td>501.239990</td>\n",
       "      <td>175.440002</td>\n",
       "      <td>247.089996</td>\n",
       "      <td>74.529999</td>\n",
       "    </tr>\n",
       "    <tr>\n",
       "      <th>2022-07-14</th>\n",
       "      <td>51.389999</td>\n",
       "      <td>240.369995</td>\n",
       "      <td>264.910004</td>\n",
       "      <td>214.270004</td>\n",
       "      <td>105.709999</td>\n",
       "      <td>61.810001</td>\n",
       "      <td>502.429993</td>\n",
       "      <td>175.679993</td>\n",
       "      <td>245.589996</td>\n",
       "      <td>74.010002</td>\n",
       "    </tr>\n",
       "  </tbody>\n",
       "</table>\n",
       "<p>638 rows × 10 columns</p>\n",
       "</div>"
      ],
      "text/plain": [
       "                  PFE          LH          CI        BIIB         ABT  \\\n",
       "Date                                                                    \n",
       "2020-01-02  37.134724  167.479996  204.940002  294.239990   86.949997   \n",
       "2020-01-03  36.935486  167.229996  203.179993  290.850006   85.889999   \n",
       "2020-01-06  36.888046  169.419998  206.919998  290.820007   86.339996   \n",
       "2020-01-07  36.764706  169.160004  207.929993  290.089996   85.860001   \n",
       "2020-01-08  37.058823  173.839996  211.410004  292.660004   86.209999   \n",
       "...               ...         ...         ...         ...         ...   \n",
       "2022-07-08  53.169998  243.940002  279.190002  218.800003  109.260002   \n",
       "2022-07-11  52.889999  242.630005  279.910004  215.259995  108.889999   \n",
       "2022-07-12  52.040001  239.910004  279.350006  215.580002  108.300003   \n",
       "2022-07-13  51.790001  240.289993  273.750000  214.529999  106.209999   \n",
       "2022-07-14  51.389999  240.369995  264.910004  214.270004  105.709999   \n",
       "\n",
       "                 GILD         UNH         JNJ        AMGN        BMY  \n",
       "Date                                                                  \n",
       "2020-01-02  65.230003  292.500000  145.970001  240.100006  63.340000  \n",
       "2020-01-03  65.070000  289.540009  144.279999  238.470001  62.779999  \n",
       "2020-01-06  65.650002  291.549988  144.100006  240.300003  62.980000  \n",
       "2020-01-07  65.120003  289.790009  144.979996  238.039993  63.930000  \n",
       "2020-01-08  65.800003  295.899994  144.960007  238.220001  63.860001  \n",
       "...               ...         ...         ...         ...        ...  \n",
       "2022-07-08  62.840000  518.630005  178.279999  248.479996  75.379997  \n",
       "2022-07-11  62.660000  516.950012  178.350006  247.779999  75.559998  \n",
       "2022-07-12  62.340000  514.419983  175.850006  246.970001  75.010002  \n",
       "2022-07-13  62.459999  501.239990  175.440002  247.089996  74.529999  \n",
       "2022-07-14  61.810001  502.429993  175.679993  245.589996  74.010002  \n",
       "\n",
       "[638 rows x 10 columns]"
      ]
     },
     "execution_count": 42,
     "metadata": {},
     "output_type": "execute_result"
    }
   ],
   "source": [
    "## Note: If you need another column, Change \"Close\" to respective column, e.g., \"Volume\"\n",
    "## Note: SPY is a standard dataset for getting ALL traded dates correctly, and any NULL values are dropped here, and SPY column is also dropped\n",
    "\n",
    "symbols = [\"PFE\", \"LH\", \"CI\", \"BIIB\", \"ABT\", \"GILD\", \"UNH\", \"JNJ\", \"AMGN\", \"BMY\"]\n",
    "def get_data(symbols):    \n",
    "    df = df_SPY[[\"Close\"]]\n",
    "    df = df.rename(columns = {\"Close\": \"SPY\"})\n",
    "    for symbol in symbols:\n",
    "        df_temp = pd.read_csv(\"{}.csv\".format(symbol), index_col=\"Date\", parse_dates = True, \n",
    "                         usecols = [\"Date\", \"Close\"], na_values = \"nan\")\n",
    "        df_temp = df_temp.rename(columns = {\"Close\": symbol})\n",
    "        df = df.join(df_temp)\n",
    "    return df\n",
    "df_health = get_data(symbols)\n",
    "df_health.drop(columns=\"SPY\")"
   ]
  },
  {
   "cell_type": "code",
   "execution_count": null,
   "id": "6ab46b7a",
   "metadata": {},
   "outputs": [],
   "source": []
  },
  {
   "cell_type": "code",
   "execution_count": null,
   "id": "67613d9c",
   "metadata": {},
   "outputs": [],
   "source": []
  },
  {
   "cell_type": "code",
   "execution_count": null,
   "id": "7a223764",
   "metadata": {},
   "outputs": [],
   "source": [
    "# # Get stock values for your Ticker (Symbol), Change it appropriately\n",
    "# df_AAPL = web.DataReader('AAPL', 'yahoo', start='2020-01-01', end = dt.datetime.today())\n",
    "# df_AAPL"
   ]
  },
  {
   "cell_type": "code",
   "execution_count": null,
   "id": "a46cbd0a",
   "metadata": {},
   "outputs": [],
   "source": [
    "# df_AMZN = web.DataReader('AMZN', 'yahoo', start='2020-01-01', end = dt.datetime.today())\n",
    "# df_AMZN"
   ]
  },
  {
   "cell_type": "code",
   "execution_count": null,
   "id": "053dde22",
   "metadata": {},
   "outputs": [],
   "source": [
    "# df_NFLX = web.DataReader('NFLX', 'yahoo', start='2020-01-01', end = dt.datetime.today())\n",
    "# df_NFLX"
   ]
  },
  {
   "cell_type": "code",
   "execution_count": null,
   "id": "9cf9dd0e",
   "metadata": {},
   "outputs": [],
   "source": [
    "# df_GOOG = web.DataReader('GOOG', 'yahoo', start='2020-01-01', end = dt.datetime.today())\n",
    "# df_GOOG"
   ]
  },
  {
   "cell_type": "code",
   "execution_count": null,
   "id": "cbddfc30",
   "metadata": {},
   "outputs": [],
   "source": [
    "# df_META = web.DataReader('META', 'yahoo', start='2020-01-01', end = dt.datetime.today())\n",
    "# df_META"
   ]
  },
  {
   "cell_type": "code",
   "execution_count": null,
   "id": "f3233f5d",
   "metadata": {},
   "outputs": [],
   "source": [
    "# df_TSLA = web.DataReader('TSLA', 'yahoo', start='2020-01-01', end = dt.datetime.today())\n",
    "# df_TSLA"
   ]
  },
  {
   "cell_type": "code",
   "execution_count": 43,
   "id": "aa314c8d",
   "metadata": {},
   "outputs": [
    {
     "data": {
      "text/plain": [
       "<AxesSubplot:title={'center':'Closing Price'}, xlabel='Date'>"
      ]
     },
     "execution_count": 43,
     "metadata": {},
     "output_type": "execute_result"
    },
    {
     "data": {
      "image/png": "[encoded data removed]",
      "text/plain": [
       "<Figure size 1152x576 with 1 Axes>"
      ]
     },
     "metadata": {
      "needs_background": "light"
     },
     "output_type": "display_data"
    }
   ],
   "source": [
    "df_health[\"PFE\"].plot(figsize = (16, 8), title = \"Closing Price\")"
   ]
  },
  {
   "cell_type": "code",
   "execution_count": null,
   "id": "d1b5bdcf",
   "metadata": {
    "scrolled": false
   },
   "outputs": [],
   "source": [
    "df_AMZN[\"Close\"].plot(figsize = (16, 8), title = \"Closing Price\")"
   ]
  },
  {
   "cell_type": "code",
   "execution_count": null,
   "id": "0974d60d",
   "metadata": {},
   "outputs": [],
   "source": [
    "df_META[\"Close\"].plot(figsize = (16, 8), title = \"Closing Price\")"
   ]
  },
  {
   "cell_type": "code",
   "execution_count": null,
   "id": "8b0c36a5",
   "metadata": {},
   "outputs": [],
   "source": [
    "df_GOOG[\"Close\"].plot(figsize = (16, 8), title = \"Closing Price\")"
   ]
  },
  {
   "cell_type": "code",
   "execution_count": null,
   "id": "d1530247",
   "metadata": {
    "scrolled": true
   },
   "outputs": [],
   "source": [
    "df_META[\"Close\"].plot(figsize = (16, 8), title = \"Closing Price\")"
   ]
  },
  {
   "cell_type": "code",
   "execution_count": null,
   "id": "a7c938bf",
   "metadata": {},
   "outputs": [],
   "source": [
    "df_TSLA[\"Close\"].plot(figsize = (16, 8), title = \"Closing Price\")"
   ]
  },
  {
   "cell_type": "code",
   "execution_count": null,
   "id": "553622b5",
   "metadata": {},
   "outputs": [],
   "source": []
  },
  {
   "cell_type": "code",
   "execution_count": null,
   "id": "c988a629",
   "metadata": {},
   "outputs": [],
   "source": [
    "# Copy, uncomment, and change ticker symbols to recreate data frames for loading into SQL\n",
    "# For other analyses, you can extract data as from the current data frames \n",
    "\n",
    "# tsla_sp_df.rename(columns={'Adj Close': 'AdjClose'}, inplace=True)\n",
    "# tsla_sp_df[\"Ticker\"] = \"TSLA\"\n",
    "# tsla_sp_df[\"Code\"] = tsla_sp_df[[\"Ticker\", \"Date\"]].apply(lambda x: \"_\".join(x), axis = 1)\n",
    "# tsla_sp_df = tsla_sp_df[[\"Ticker\", \"Date\", \"Open\", \"High\", \"Low\", \"Close\", \"AdjClose\", \"Volume\", \"Code\"]]\n",
    "# tsla_sp_df['Date'] = pd.to_datetime(tsla_sp_df['Date'])\n",
    "# tsla_sp_df\n",
    "# tsla_sp_df.to_csv(\"tsla_sp_to_sql.csv\", index=False)"
   ]
  },
  {
   "cell_type": "code",
   "execution_count": null,
   "id": "54ce23ac",
   "metadata": {},
   "outputs": [],
   "source": [
    "# frames = [aapl_sp_df,amzn_sp_df, nflx_sp_df, meta_sp_df, tsla_sp_df, goog_sp_df]"
   ]
  },
  {
   "cell_type": "code",
   "execution_count": null,
   "id": "d144f772",
   "metadata": {},
   "outputs": [],
   "source": [
    "# all_stock_df = pd.concat(frames)"
   ]
  },
  {
   "cell_type": "code",
   "execution_count": null,
   "id": "7005783c",
   "metadata": {},
   "outputs": [],
   "source": [
    "# all_stock_df.shape"
   ]
  },
  {
   "cell_type": "code",
   "execution_count": null,
   "id": "ac868f7b",
   "metadata": {},
   "outputs": [],
   "source": []
  }
 ],
 "metadata": {
  "kernelspec": {
   "display_name": "Python 3",
   "language": "python",
   "name": "python3"
  },
  "language_info": {
   "codemirror_mode": {
    "name": "ipython",
    "version": 3
   },
   "file_extension": ".py",
   "mimetype": "text/x-python",
   "name": "python",
   "nbconvert_exporter": "python",
   "pygments_lexer": "ipython3",
   "version": "3.8.13"
  }
 },
 "nbformat": 4,
 "nbformat_minor": 5
}
