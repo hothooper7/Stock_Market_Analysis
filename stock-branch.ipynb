{
 "cells": [
  {
   "cell_type": "code",
   "execution_count": 1,
   "id": "820117e8",
   "metadata": {},
   "outputs": [
    {
     "data": {
      "text/plain": [
       "'C:\\\\Users\\\\presj\\\\Data Analytics Project\\\\Stock_Market_Analysis'"
      ]
     },
     "execution_count": 1,
     "metadata": {},
     "output_type": "execute_result"
    }
   ],
   "source": [
    "import os\n",
    "os.getcwd()"
   ]
  },
  {
   "cell_type": "code",
   "execution_count": 2,
   "id": "6a8cdbf6",
   "metadata": {},
   "outputs": [
    {
     "ename": "FileNotFoundError",
     "evalue": "[WinError 3] The system cannot find the path specified: '/Users/wimal/Documents/DataScience/UNC_Bootcamp/Project/'",
     "output_type": "error",
     "traceback": [
      "\u001b[1;31m---------------------------------------------------------------------------\u001b[0m",
      "\u001b[1;31mFileNotFoundError\u001b[0m                         Traceback (most recent call last)",
      "\u001b[1;32m~\\AppData\\Local\\Temp/ipykernel_19120/2588059431.py\u001b[0m in \u001b[0;36m<module>\u001b[1;34m\u001b[0m\n\u001b[1;32m----> 1\u001b[1;33m \u001b[0mos\u001b[0m\u001b[1;33m.\u001b[0m\u001b[0mchdir\u001b[0m\u001b[1;33m(\u001b[0m\u001b[1;34m'/Users/wimal/Documents/DataScience/UNC_Bootcamp/Project/'\u001b[0m\u001b[1;33m)\u001b[0m\u001b[1;33m\u001b[0m\u001b[1;33m\u001b[0m\u001b[0m\n\u001b[0m\u001b[0;32m      2\u001b[0m \u001b[0mos\u001b[0m\u001b[1;33m.\u001b[0m\u001b[0mgetcwd\u001b[0m\u001b[1;33m(\u001b[0m\u001b[1;33m)\u001b[0m\u001b[1;33m\u001b[0m\u001b[1;33m\u001b[0m\u001b[0m\n",
      "\u001b[1;31mFileNotFoundError\u001b[0m: [WinError 3] The system cannot find the path specified: '/Users/wimal/Documents/DataScience/UNC_Bootcamp/Project/'"
     ]
    }
   ],
   "source": [
    "os.chdir('/Users/wimal/Documents/DataScience/UNC_Bootcamp/Project/')\n",
    "os.getcwd()"
   ]
  },
  {
   "cell_type": "code",
   "execution_count": null,
   "id": "340f838e",
   "metadata": {},
   "outputs": [],
   "source": [
    "# Import our dependencies\n",
    "import numpy as np\n",
    "import pandas as pd\n",
    "import matplotlib.pyplot as plt\n",
    "%matplotlib inline\n",
    "\n",
    "import requests\n",
    "from bs4 import BeautifulSoup as bs"
   ]
  },
  {
   "cell_type": "markdown",
   "id": "e5565b66",
   "metadata": {},
   "source": [
    "# Getting Stocks Data from Yahoo Finance"
   ]
  },
  {
   "cell_type": "code",
   "execution_count": null,
   "id": "88187590",
   "metadata": {},
   "outputs": [],
   "source": [
    "# Import our input datasets\n",
    "aapl_sp_df = pd.read_csv('AAPL_SP.csv')"
   ]
  },
  {
   "cell_type": "code",
   "execution_count": null,
   "id": "12155b9a",
   "metadata": {},
   "outputs": [],
   "source": [
    "aapl_sp_df.rename(columns={'Adj Close': 'AdjClose'}, inplace=True)\n",
    "aapl_sp_df[\"Ticker\"] = \"AAPL\"\n",
    "aapl_sp_df[\"Code\"] = aapl_sp_df[[\"Ticker\", \"Date\"]].apply(lambda x: \"_\".join(x), axis = 1)\n",
    "aapl_sp_df = aapl_sp_df[[\"Ticker\", \"Date\", \"Open\", \"High\", \"Low\", \"Close\", \"AdjClose\", \"Volume\", \"Code\"]]\n",
    "aapl_sp_df['Date'] = pd.to_datetime(aapl_sp_df['Date'])\n",
    "aapl_sp_df"
   ]
  },
  {
   "cell_type": "code",
   "execution_count": null,
   "id": "f6ca8435",
   "metadata": {},
   "outputs": [],
   "source": [
    "aapl_sp_df.info()"
   ]
  },
  {
   "cell_type": "code",
   "execution_count": null,
   "id": "43c7e566",
   "metadata": {},
   "outputs": [],
   "source": [
    "aapl_sp_df.describe()"
   ]
  },
  {
   "cell_type": "code",
   "execution_count": null,
   "id": "4bee1515",
   "metadata": {},
   "outputs": [],
   "source": [
    "df = pd.read_csv('AAPL_SP.csv')\n",
    "df1 = df[[\"Open\", \"Close\", \"Volume\"]]"
   ]
  },
  {
   "cell_type": "code",
   "execution_count": null,
   "id": "60914d0a",
   "metadata": {},
   "outputs": [],
   "source": [
    "df1.describe()"
   ]
  },
  {
   "cell_type": "code",
   "execution_count": null,
   "id": "e2cede38",
   "metadata": {},
   "outputs": [],
   "source": [
    "aapl_sp_df.to_csv(\"aapl_sp_to_sql.csv\", index=False)"
   ]
  },
  {
   "cell_type": "code",
   "execution_count": null,
   "id": "aa314c8d",
   "metadata": {},
   "outputs": [],
   "source": [
    "aapl_sp_df.plot(x=\"Date\", y=\"Close\", figsize = (16, 8), title = \"Closing Price\")"
   ]
  },
  {
   "cell_type": "code",
   "execution_count": null,
   "id": "d1b5bdcf",
   "metadata": {
    "scrolled": true
   },
   "outputs": [],
   "source": [
    "aapl_sp_df.plot(x=\"Date\", y=\"Volume\", figsize = (16, 8), title = \"Volume Taded\")"
   ]
  },
  {
   "cell_type": "code",
   "execution_count": null,
   "id": "1d28dd1d",
   "metadata": {},
   "outputs": [],
   "source": [
    "amzn_sp_df = pd.read_csv('AMZN_SP.csv')"
   ]
  },
  {
   "cell_type": "code",
   "execution_count": null,
   "id": "b24d091b",
   "metadata": {},
   "outputs": [],
   "source": [
    "amzn_sp_df.rename(columns={'Adj Close': 'AdjClose'}, inplace=True)\n",
    "amzn_sp_df[\"Ticker\"] = \"AMZN\"\n",
    "amzn_sp_df[\"Code\"] = amzn_sp_df[[\"Ticker\", \"Date\"]].apply(lambda x: \"_\".join(x), axis = 1)\n",
    "amzn_sp_df = amzn_sp_df[[\"Ticker\", \"Date\", \"Open\", \"High\", \"Low\", \"Close\", \"AdjClose\", \"Volume\", \"Code\"]]\n",
    "amzn_sp_df['Date'] = pd.to_datetime(amzn_sp_df['Date'])\n",
    "amzn_sp_df"
   ]
  },
  {
   "cell_type": "code",
   "execution_count": null,
   "id": "0974d60d",
   "metadata": {},
   "outputs": [],
   "source": [
    "amzn_sp_df.plot(x=\"Date\", y=\"Close\", figsize = (16, 8), title = \"Closing Price\")"
   ]
  },
  {
   "cell_type": "code",
   "execution_count": null,
   "id": "8b0c36a5",
   "metadata": {},
   "outputs": [],
   "source": [
    "amzn_sp_df.plot(x=\"Date\", y=\"Volume\", figsize = (16, 8), title = \"Volume Taded\")"
   ]
  },
  {
   "cell_type": "code",
   "execution_count": null,
   "id": "04f43bee",
   "metadata": {},
   "outputs": [],
   "source": [
    "amzn_sp_df.to_csv(\"amzn_sp_to_sql.csv\", index=False)"
   ]
  },
  {
   "cell_type": "code",
   "execution_count": null,
   "id": "97658ef3",
   "metadata": {},
   "outputs": [],
   "source": [
    "nflx_sp_df = pd.read_csv('NFLX_SP.csv')"
   ]
  },
  {
   "cell_type": "code",
   "execution_count": null,
   "id": "5102492d",
   "metadata": {},
   "outputs": [],
   "source": [
    "nflx_sp_df.rename(columns={'Adj Close': 'AdjClose'}, inplace=True)\n",
    "nflx_sp_df[\"Ticker\"] = \"NFLX\"\n",
    "nflx_sp_df[\"Code\"] = nflx_sp_df[[\"Ticker\", \"Date\"]].apply(lambda x: \"_\".join(x), axis = 1)\n",
    "nflx_sp_df = nflx_sp_df[[\"Ticker\", \"Date\", \"Open\", \"High\", \"Low\", \"Close\", \"AdjClose\", \"Volume\", \"Code\"]]\n",
    "nflx_sp_df['Date'] = pd.to_datetime(nflx_sp_df['Date'])\n",
    "nflx_sp_df"
   ]
  },
  {
   "cell_type": "code",
   "execution_count": null,
   "id": "343e7111",
   "metadata": {},
   "outputs": [],
   "source": [
    "nflx_sp_df"
   ]
  },
  {
   "cell_type": "code",
   "execution_count": null,
   "id": "d1530247",
   "metadata": {
    "scrolled": true
   },
   "outputs": [],
   "source": [
    "nflx_sp_df.plot(x=\"Date\", y=\"Close\", figsize = (16, 8), title = \"Closing Price\")"
   ]
  },
  {
   "cell_type": "code",
   "execution_count": null,
   "id": "a7c938bf",
   "metadata": {},
   "outputs": [],
   "source": [
    "nflx_sp_df.plot(x=\"Date\", y=\"Volume\", figsize = (16, 8), title = \"Volume Taded\")"
   ]
  },
  {
   "cell_type": "code",
   "execution_count": null,
   "id": "fb2c66ca",
   "metadata": {},
   "outputs": [],
   "source": [
    "meta_sp_df = pd.read_csv('META_SP.csv')"
   ]
  },
  {
   "cell_type": "code",
   "execution_count": null,
   "id": "bfae927f",
   "metadata": {},
   "outputs": [],
   "source": [
    "meta_sp_df.rename(columns={'Adj Close': 'AdjClose'}, inplace=True)\n",
    "meta_sp_df[\"Ticker\"] = \"META\"\n",
    "meta_sp_df[\"Code\"] = meta_sp_df[[\"Ticker\", \"Date\"]].apply(lambda x: \"_\".join(x), axis = 1)\n",
    "meta_sp_df = meta_sp_df[[\"Ticker\", \"Date\", \"Open\", \"High\", \"Low\", \"Close\", \"AdjClose\", \"Volume\", \"Code\"]]\n",
    "meta_sp_df['Date'] = pd.to_datetime(meta_sp_df['Date'])\n",
    "meta_sp_df"
   ]
  },
  {
   "cell_type": "code",
   "execution_count": null,
   "id": "d8e05f3a",
   "metadata": {},
   "outputs": [],
   "source": [
    "meta_sp_df.plot(x=\"Date\", y=\"Close\", figsize = (16, 8), title = \"Closing Price\")"
   ]
  },
  {
   "cell_type": "code",
   "execution_count": null,
   "id": "07644399",
   "metadata": {},
   "outputs": [],
   "source": [
    "meta_sp_df.plot(x=\"Date\", y=\"Volume\", figsize = (16, 8), title = \"Volume Taded\")"
   ]
  },
  {
   "cell_type": "code",
   "execution_count": null,
   "id": "02a353fc",
   "metadata": {},
   "outputs": [],
   "source": [
    "meta_sp_df.to_csv(\"meta_sp_to_sql.csv\", index=False)"
   ]
  },
  {
   "cell_type": "code",
   "execution_count": null,
   "id": "c52bb03f",
   "metadata": {},
   "outputs": [],
   "source": [
    "tsla_sp_df = pd.read_csv('TSLA_SP.csv')"
   ]
  },
  {
   "cell_type": "code",
   "execution_count": null,
   "id": "56238d6a",
   "metadata": {},
   "outputs": [],
   "source": [
    "tsla_sp_df.rename(columns={'Adj Close': 'AdjClose'}, inplace=True)\n",
    "tsla_sp_df[\"Ticker\"] = \"TSLA\"\n",
    "tsla_sp_df[\"Code\"] = tsla_sp_df[[\"Ticker\", \"Date\"]].apply(lambda x: \"_\".join(x), axis = 1)\n",
    "tsla_sp_df = tsla_sp_df[[\"Ticker\", \"Date\", \"Open\", \"High\", \"Low\", \"Close\", \"AdjClose\", \"Volume\", \"Code\"]]\n",
    "tsla_sp_df['Date'] = pd.to_datetime(tsla_sp_df['Date'])\n",
    "tsla_sp_df"
   ]
  },
  {
   "cell_type": "code",
   "execution_count": null,
   "id": "8d5ff0e7",
   "metadata": {},
   "outputs": [],
   "source": [
    "tsla_sp_df.plot(x=\"Date\", y=\"Close\", figsize = (16, 8), title = \"Closing Price\")"
   ]
  },
  {
   "cell_type": "code",
   "execution_count": null,
   "id": "6954a3da",
   "metadata": {
    "scrolled": true
   },
   "outputs": [],
   "source": [
    "tsla_sp_df.plot(x=\"Date\", y=\"Volume\", figsize = (16, 8), title = \"Volume Taded\")"
   ]
  },
  {
   "cell_type": "code",
   "execution_count": null,
   "id": "912b634b",
   "metadata": {},
   "outputs": [],
   "source": [
    "tsla_sp_df.to_csv(\"tsla_sp_to_sql.csv\", index=False)"
   ]
  },
  {
   "cell_type": "code",
   "execution_count": null,
   "id": "b75c69d1",
   "metadata": {},
   "outputs": [],
   "source": [
    "goog_sp_df = pd.read_csv('GOOG_SP.csv')"
   ]
  },
  {
   "cell_type": "code",
   "execution_count": null,
   "id": "4e0f2a2d",
   "metadata": {},
   "outputs": [],
   "source": [
    "goog_sp_df.rename(columns={'Adj Close': 'AdjClose'}, inplace=True)\n",
    "goog_sp_df[\"Ticker\"] = \"GOOG\"\n",
    "goog_sp_df[\"Code\"] = goog_sp_df[[\"Ticker\", \"Date\"]].apply(lambda x: \"_\".join(x), axis = 1)\n",
    "goog_sp_df = goog_sp_df[[\"Ticker\", \"Date\", \"Open\", \"High\", \"Low\", \"Close\", \"AdjClose\", \"Volume\", \"Code\"]]\n",
    "goog_sp_df['Date'] = pd.to_datetime(goog_sp_df['Date'])\n",
    "goog_sp_df"
   ]
  },
  {
   "cell_type": "code",
   "execution_count": null,
   "id": "05293d5d",
   "metadata": {},
   "outputs": [],
   "source": [
    "goog_sp_df.plot(x=\"Date\", y=\"Close\", figsize = (16, 8), title = \"Closing Price\")"
   ]
  },
  {
   "cell_type": "code",
   "execution_count": null,
   "id": "9ee193fc",
   "metadata": {
    "scrolled": true
   },
   "outputs": [],
   "source": [
    "goog_sp_df.plot(x=\"Date\", y=\"Volume\", figsize = (16, 8), title = \"Volume Taded\")"
   ]
  },
  {
   "cell_type": "code",
   "execution_count": null,
   "id": "4a81b10e",
   "metadata": {},
   "outputs": [],
   "source": [
    "goog_sp_df.to_csv(\"goog_sp_to_sql.csv\", index=False)"
   ]
  },
  {
   "cell_type": "code",
   "execution_count": null,
   "id": "54ce23ac",
   "metadata": {},
   "outputs": [],
   "source": []
  },
  {
   "cell_type": "code",
   "execution_count": null,
   "id": "7005783c",
   "metadata": {},
   "outputs": [],
   "source": []
  },
  {
   "cell_type": "code",
   "execution_count": null,
   "id": "43f2ed6f",
   "metadata": {},
   "outputs": [],
   "source": [
    "tsla_sp_df.info()"
   ]
  },
  {
   "cell_type": "code",
   "execution_count": null,
   "id": "ac868f7b",
   "metadata": {},
   "outputs": [],
   "source": []
  },
  {
   "cell_type": "code",
   "execution_count": null,
   "id": "62072064",
   "metadata": {},
   "outputs": [],
   "source": []
  },
  {
   "cell_type": "markdown",
   "id": "950a31eb",
   "metadata": {},
   "source": [
    "# AAPL"
   ]
  },
  {
   "cell_type": "code",
   "execution_count": null,
   "id": "688bf2c5",
   "metadata": {},
   "outputs": [],
   "source": [
    "from sklearn.model_selection import train_test_split\n",
    "from sklearn.preprocessing import StandardScaler,OneHotEncoder\n",
    "#from sklearn.preprocessing import MinMaxScaler\n",
    "from sklearn.metrics import accuracy_score\n",
    "from sklearn.svm import SVC\n",
    "import tensorflow as tf"
   ]
  },
  {
   "cell_type": "code",
   "execution_count": null,
   "id": "64d03a2e",
   "metadata": {},
   "outputs": [],
   "source": [
    "aapl_sp_df.shape"
   ]
  },
  {
   "cell_type": "markdown",
   "id": "45b36c40",
   "metadata": {},
   "source": [
    "## Data Preparation for ML"
   ]
  },
  {
   "cell_type": "code",
   "execution_count": null,
   "id": "6b42cee5",
   "metadata": {},
   "outputs": [],
   "source": [
    "training_df = aapl_sp_df[8600:10000]"
   ]
  },
  {
   "cell_type": "code",
   "execution_count": null,
   "id": "8373b3a5",
   "metadata": {},
   "outputs": [],
   "source": [
    "training_df.shape"
   ]
  },
  {
   "cell_type": "code",
   "execution_count": null,
   "id": "48b83b67",
   "metadata": {},
   "outputs": [],
   "source": [
    "test_df = aapl_sp_df[10000:]"
   ]
  },
  {
   "cell_type": "code",
   "execution_count": null,
   "id": "7976ef5e",
   "metadata": {},
   "outputs": [],
   "source": [
    "test_df.shape"
   ]
  },
  {
   "cell_type": "code",
   "execution_count": null,
   "id": "07494b00",
   "metadata": {},
   "outputs": [],
   "source": [
    "#aapl_training_df = aapl_sp_df[(aapl_sp_df['Date'] > \"2016-07-01\") & (aapl_sp_df['Date'] < \"2020-07-01\")]"
   ]
  },
  {
   "cell_type": "code",
   "execution_count": null,
   "id": "1c68ba1f",
   "metadata": {
    "scrolled": true
   },
   "outputs": [],
   "source": [
    "training_df.plot(x=\"Date\", y=\"Close\", figsize = (16, 8), title = \"Close\")"
   ]
  },
  {
   "cell_type": "code",
   "execution_count": null,
   "id": "03473afc",
   "metadata": {},
   "outputs": [],
   "source": [
    "training_df.plot(x=\"Date\", y=\"Volume\", figsize = (16, 8), title = \"Volume Taded\")"
   ]
  },
  {
   "cell_type": "code",
   "execution_count": null,
   "id": "a29cf1ac",
   "metadata": {},
   "outputs": [],
   "source": [
    "training_set = training_df.iloc[:, 2:3].values"
   ]
  },
  {
   "cell_type": "code",
   "execution_count": null,
   "id": "da059af3",
   "metadata": {},
   "outputs": [],
   "source": [
    "training_set.shape "
   ]
  },
  {
   "cell_type": "code",
   "execution_count": null,
   "id": "3d53ff0b",
   "metadata": {},
   "outputs": [],
   "source": [
    "# Normalizing data, scale between 0 and 1:\n",
    "\n",
    "from sklearn.preprocessing import MinMaxScaler\n",
    "\n",
    "sc = MinMaxScaler(feature_range=(0, 1))\n",
    "\n",
    "training_set_scaled = sc.fit_transform(training_set)"
   ]
  },
  {
   "cell_type": "code",
   "execution_count": null,
   "id": "f470bde7",
   "metadata": {},
   "outputs": [],
   "source": [
    "training_set_scaled.shape"
   ]
  },
  {
   "cell_type": "code",
   "execution_count": null,
   "id": "73b4c888",
   "metadata": {},
   "outputs": [],
   "source": [
    "X_train = []\n",
    "y_train = []\n",
    "\n",
    "for i in range(60, 1400):\n",
    "  X_train.append(training_set_scaled[i-60:i, 0])\n",
    "  y_train.append(training_set_scaled[i, 0])\n",
    "\n",
    "X_train, y_train = np.array(X_train), np.array(y_train)"
   ]
  },
  {
   "cell_type": "code",
   "execution_count": null,
   "id": "5ddaa3ed",
   "metadata": {},
   "outputs": [],
   "source": [
    "X_train = np.reshape(X_train, (X_train.shape[0], X_train.shape[1], 1))"
   ]
  },
  {
   "cell_type": "markdown",
   "id": "bd4f8a19",
   "metadata": {},
   "source": [
    "## Deep Learning"
   ]
  },
  {
   "cell_type": "code",
   "execution_count": null,
   "id": "8f69f48c",
   "metadata": {},
   "outputs": [],
   "source": [
    "model = tf.keras.models.Sequential()\n",
    "\n",
    "model.add(tf.keras.layers.LSTM(units=50, return_sequences=True, \n",
    "                               input_shape=(X_train.shape[1], 1)))\n",
    "\n",
    "model.add(tf.keras.layers.Dropout(0.2))\n",
    "\n",
    "model.add(tf.keras.layers.LSTM(units=50, return_sequences=True))\n",
    "\n",
    "model.add(tf.keras.layers.Dropout(0.2))\n",
    "\n",
    "model.add(tf.keras.layers.LSTM(units=50, return_sequences=True))\n",
    "\n",
    "model.add(tf.keras.layers.Dropout(0.2))\n",
    "\n",
    "model.add(tf.keras.layers.LSTM(units=50))\n",
    "\n",
    "model.add(tf.keras.layers.Dropout(0.2))\n",
    "\n",
    "model.add(tf.keras.layers.Dense(units=1))\n",
    "\n",
    "model.summary()"
   ]
  },
  {
   "cell_type": "code",
   "execution_count": null,
   "id": "cd332f1a",
   "metadata": {},
   "outputs": [],
   "source": [
    "model.compile(optimizer='adam', loss='mean_squared_error')"
   ]
  },
  {
   "cell_type": "code",
   "execution_count": null,
   "id": "4f704157",
   "metadata": {},
   "outputs": [],
   "source": [
    "modelo = model.fit(X_train, y_train, epochs=100, batch_size=32)"
   ]
  },
  {
   "cell_type": "code",
   "execution_count": null,
   "id": "b946f1d4",
   "metadata": {},
   "outputs": [],
   "source": [
    "plt.plot(modelo.history['loss'])\n",
    "plt.xlabel('Epochs')\n",
    "plt.ylabel('Loss')\n",
    "plt.show()"
   ]
  },
  {
   "cell_type": "code",
   "execution_count": null,
   "id": "70159f48",
   "metadata": {},
   "outputs": [],
   "source": [
    "real_stock_price = test_df.iloc[: , 2:3].values"
   ]
  },
  {
   "cell_type": "code",
   "execution_count": null,
   "id": "14afe8b0",
   "metadata": {},
   "outputs": [],
   "source": [
    "real_stock_price.shape"
   ]
  },
  {
   "cell_type": "code",
   "execution_count": null,
   "id": "95e7926d",
   "metadata": {},
   "outputs": [],
   "source": [
    "dataset_total = pd.concat([training_df['Open'], test_df['Open']], axis=0)\n",
    "inputs = dataset_total[len(dataset_total) - len(test_df) - 60:].values\n",
    "inputs = inputs.reshape(-1,1)\n",
    "inputs = sc.transform(inputs)\n",
    "X_test = []\n",
    "for i in range(60, 481):\n",
    "    X_test.append(inputs[i-60:i, 0])\n",
    "X_test = np.array(X_test)\n",
    "X_test = np.reshape(X_test, (X_test.shape[0], X_test.shape[1], 1))"
   ]
  },
  {
   "cell_type": "code",
   "execution_count": null,
   "id": "8fca8829",
   "metadata": {},
   "outputs": [],
   "source": [
    "X_test.shape"
   ]
  },
  {
   "cell_type": "code",
   "execution_count": null,
   "id": "5fd4401b",
   "metadata": {},
   "outputs": [],
   "source": [
    "predicted_stock_price = model.predict(X_test)"
   ]
  },
  {
   "cell_type": "code",
   "execution_count": null,
   "id": "78b47ac6",
   "metadata": {},
   "outputs": [],
   "source": [
    "predicted_stock_price = sc.inverse_transform(predicted_stock_price)"
   ]
  },
  {
   "cell_type": "code",
   "execution_count": null,
   "id": "9eb58245",
   "metadata": {},
   "outputs": [],
   "source": [
    "plt.figure(figsize=(12, 6))\n",
    "\n",
    "plt.plot(real_stock_price, color='black', label='Apple Stock Price')\n",
    "plt.plot(predicted_stock_price, color='red', label='Predicted Apple Stock Price')\n",
    "\n",
    "plt.title('Apple Stock Price Prediction')\n",
    "plt.xlabel('Time')\n",
    "plt.xlabel('Apple Stock Price')\n",
    "plt.legend()\n",
    "plt.show()"
   ]
  },
  {
   "cell_type": "code",
   "execution_count": null,
   "id": "cedb233e",
   "metadata": {},
   "outputs": [],
   "source": []
  },
  {
   "cell_type": "code",
   "execution_count": null,
   "id": "79ed16a8",
   "metadata": {},
   "outputs": [],
   "source": []
  },
  {
   "cell_type": "code",
   "execution_count": null,
   "id": "01004a19",
   "metadata": {},
   "outputs": [],
   "source": []
  },
  {
   "cell_type": "markdown",
   "id": "7c21edc0",
   "metadata": {},
   "source": [
    "# Webscraping"
   ]
  },
  {
   "cell_type": "code",
   "execution_count": null,
   "id": "e2a7a485",
   "metadata": {},
   "outputs": [],
   "source": [
    "url = 'https://en.wikipedia.org/wiki/List_of_S%26P_500_companies'\n",
    "req = requests.get(url)\n",
    "print(req)\n",
    "# <Response[200]>"
   ]
  },
  {
   "cell_type": "code",
   "execution_count": null,
   "id": "d488b987",
   "metadata": {},
   "outputs": [],
   "source": [
    "soup = bs(req.text, 'html.parser')\n",
    "type(soup)"
   ]
  },
  {
   "cell_type": "code",
   "execution_count": null,
   "id": "0ae9852d",
   "metadata": {},
   "outputs": [],
   "source": [
    "soup = bs(req.content, 'html.parser')"
   ]
  },
  {
   "cell_type": "code",
   "execution_count": null,
   "id": "10ededf6",
   "metadata": {},
   "outputs": [],
   "source": [
    "soup"
   ]
  },
  {
   "cell_type": "code",
   "execution_count": null,
   "id": "2cba67d0",
   "metadata": {},
   "outputs": [],
   "source": [
    "table = soup.find(\"table\", class_= \"wikitable sortable\")"
   ]
  },
  {
   "cell_type": "code",
   "execution_count": null,
   "id": "d7a364ee",
   "metadata": {},
   "outputs": [],
   "source": [
    "test = table.find_all(\"tr\")"
   ]
  },
  {
   "cell_type": "code",
   "execution_count": null,
   "id": "6d796e49",
   "metadata": {},
   "outputs": [],
   "source": [
    "len(test)"
   ]
  },
  {
   "cell_type": "code",
   "execution_count": null,
   "id": "4ea30fa7",
   "metadata": {},
   "outputs": [],
   "source": [
    "pip install lxml"
   ]
  },
  {
   "cell_type": "code",
   "execution_count": null,
   "id": "26e2dab4",
   "metadata": {},
   "outputs": [],
   "source": [
    "df=pd.read_html(str(table))\n",
    "# convert list to dataframe\n",
    "df=pd.DataFrame(df[0])\n",
    "print(df.head())"
   ]
  },
  {
   "cell_type": "code",
   "execution_count": null,
   "id": "e9cc55fc",
   "metadata": {},
   "outputs": [],
   "source": [
    "# drop the unwanted columns\n",
    "data = df.drop([\"SEC filings\"], axis=1)"
   ]
  },
  {
   "cell_type": "code",
   "execution_count": null,
   "id": "ebeb2ad1",
   "metadata": {},
   "outputs": [],
   "source": [
    "data"
   ]
  },
  {
   "cell_type": "code",
   "execution_count": null,
   "id": "d71ab56c",
   "metadata": {},
   "outputs": [],
   "source": [
    "data.info()"
   ]
  },
  {
   "cell_type": "code",
   "execution_count": null,
   "id": "f2669f5a",
   "metadata": {},
   "outputs": [],
   "source": [
    "data = data.rename(columns={\"GICS Sector\": \"GICS_Sector\", \"GICS Sub-Industry\": \"GICS_Sub_Industry\",\"Headquarters Location\": \"Headquarters\", \"Date first added\": \"Date_First_Added\"})\n",
    "print(data.head())"
   ]
  },
  {
   "cell_type": "code",
   "execution_count": null,
   "id": "8892a25d",
   "metadata": {},
   "outputs": [],
   "source": [
    "data.head()"
   ]
  },
  {
   "cell_type": "code",
   "execution_count": null,
   "id": "f865496e",
   "metadata": {},
   "outputs": [],
   "source": [
    "data = data.rename(columns={\"GICS Sector\": \"GICS_Sector\"})"
   ]
  },
  {
   "cell_type": "code",
   "execution_count": null,
   "id": "ca365b6e",
   "metadata": {},
   "outputs": [],
   "source": [
    "data"
   ]
  },
  {
   "cell_type": "code",
   "execution_count": null,
   "id": "0e798762",
   "metadata": {},
   "outputs": [],
   "source": [
    "data.to_csv(\"companies.csv\")"
   ]
  },
  {
   "cell_type": "code",
   "execution_count": null,
   "id": "769d21c5",
   "metadata": {},
   "outputs": [],
   "source": [
    "data[\"CIK\"].dtypes"
   ]
  },
  {
   "cell_type": "code",
   "execution_count": null,
   "id": "a2397a99",
   "metadata": {},
   "outputs": [],
   "source": [
    "data.dtypes"
   ]
  },
  {
   "cell_type": "code",
   "execution_count": null,
   "id": "5051ddc1",
   "metadata": {},
   "outputs": [],
   "source": []
  }
 ],
 "metadata": {
  "kernelspec": {
   "display_name": "Python 3 (ipykernel)",
   "language": "python",
   "name": "python3"
  },
  "language_info": {
   "codemirror_mode": {
    "name": "ipython",
    "version": 3
   },
   "file_extension": ".py",
   "mimetype": "text/x-python",
   "name": "python",
   "nbconvert_exporter": "python",
   "pygments_lexer": "ipython3",
   "version": "3.9.7"
  }
 },
 "nbformat": 4,
 "nbformat_minor": 5
}
