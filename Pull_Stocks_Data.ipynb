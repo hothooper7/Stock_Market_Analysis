{
 "cells": [
  {
   "cell_type": "code",
   "execution_count": 1,
   "metadata": {},
   "outputs": [],
   "source": [
    "#Import Dependencies\n",
    "import yfinance as yf\n",
    "\n",
    "#Create string based on my 10 stocks\n",
    "tickers = [\"PEP\", \"PG\", \"COST\", \"WMT\", \"CLX\", \"KR\", \"STZ\", \"KO\", \"HRL\", \"GIS\"]\n"
   ]
  },
  {
   "cell_type": "code",
   "execution_count": 2,
   "metadata": {},
   "outputs": [],
   "source": [
    "#Reiteriate through the code to pull historical data from Yahoo Finance\n",
    "for ticker in tickers: \n",
    "    exec(f'df_{ticker} = yf.Ticker(ticker).history(period=\"3y\")')\n",
    "    exec(f'df_{ticker}[\"Ticker\"] = ticker')"
   ]
  },
  {
   "cell_type": "code",
   "execution_count": 10,
   "metadata": {},
   "outputs": [],
   "source": [
    "#Merge All Consumer Stable Stocks Into Single Data Frame\n",
    "import pandas as pd\n",
    "frames = [df_PEP, df_PG, df_COST, df_WMT, df_CLX, df_KR, df_STZ, df_KO, df_HRL, df_GIS]\n",
    "df_ConsumerStaples = pd.concat(frames).sort_index()"
   ]
  },
  {
   "cell_type": "code",
   "execution_count": 11,
   "metadata": {},
   "outputs": [
    {
     "data": {
      "text/html": [
       "<div>\n",
       "<style scoped>\n",
       "    .dataframe tbody tr th:only-of-type {\n",
       "        vertical-align: middle;\n",
       "    }\n",
       "\n",
       "    .dataframe tbody tr th {\n",
       "        vertical-align: top;\n",
       "    }\n",
       "\n",
       "    .dataframe thead th {\n",
       "        text-align: right;\n",
       "    }\n",
       "</style>\n",
       "<table border=\"1\" class=\"dataframe\">\n",
       "  <thead>\n",
       "    <tr style=\"text-align: right;\">\n",
       "      <th></th>\n",
       "      <th>Open</th>\n",
       "      <th>High</th>\n",
       "      <th>Low</th>\n",
       "      <th>Close</th>\n",
       "      <th>Volume</th>\n",
       "      <th>Dividends</th>\n",
       "      <th>Stock Splits</th>\n",
       "      <th>Ticker</th>\n",
       "    </tr>\n",
       "    <tr>\n",
       "      <th>Date</th>\n",
       "      <th></th>\n",
       "      <th></th>\n",
       "      <th></th>\n",
       "      <th></th>\n",
       "      <th></th>\n",
       "      <th></th>\n",
       "      <th></th>\n",
       "      <th></th>\n",
       "    </tr>\n",
       "  </thead>\n",
       "  <tbody>\n",
       "    <tr>\n",
       "      <th>2019-07-16</th>\n",
       "      <td>123.169285</td>\n",
       "      <td>124.234894</td>\n",
       "      <td>122.223102</td>\n",
       "      <td>122.912071</td>\n",
       "      <td>4019700</td>\n",
       "      <td>0.0</td>\n",
       "      <td>0</td>\n",
       "      <td>PEP</td>\n",
       "    </tr>\n",
       "    <tr>\n",
       "      <th>2019-07-16</th>\n",
       "      <td>147.598739</td>\n",
       "      <td>149.399518</td>\n",
       "      <td>147.153190</td>\n",
       "      <td>148.462006</td>\n",
       "      <td>943000</td>\n",
       "      <td>0.0</td>\n",
       "      <td>0</td>\n",
       "      <td>CLX</td>\n",
       "    </tr>\n",
       "    <tr>\n",
       "      <th>2019-07-16</th>\n",
       "      <td>267.446619</td>\n",
       "      <td>267.798769</td>\n",
       "      <td>266.285462</td>\n",
       "      <td>267.113495</td>\n",
       "      <td>1379200</td>\n",
       "      <td>0.0</td>\n",
       "      <td>0</td>\n",
       "      <td>COST</td>\n",
       "    </tr>\n",
       "    <tr>\n",
       "      <th>2019-07-16</th>\n",
       "      <td>20.749047</td>\n",
       "      <td>20.777227</td>\n",
       "      <td>20.589367</td>\n",
       "      <td>20.626938</td>\n",
       "      <td>5659700</td>\n",
       "      <td>0.0</td>\n",
       "      <td>0</td>\n",
       "      <td>KR</td>\n",
       "    </tr>\n",
       "    <tr>\n",
       "      <th>2019-07-16</th>\n",
       "      <td>47.972287</td>\n",
       "      <td>48.361790</td>\n",
       "      <td>47.782065</td>\n",
       "      <td>47.881706</td>\n",
       "      <td>5142900</td>\n",
       "      <td>0.0</td>\n",
       "      <td>0</td>\n",
       "      <td>GIS</td>\n",
       "    </tr>\n",
       "  </tbody>\n",
       "</table>\n",
       "</div>"
      ],
      "text/plain": [
       "                  Open        High         Low       Close   Volume  \\\n",
       "Date                                                                  \n",
       "2019-07-16  123.169285  124.234894  122.223102  122.912071  4019700   \n",
       "2019-07-16  147.598739  149.399518  147.153190  148.462006   943000   \n",
       "2019-07-16  267.446619  267.798769  266.285462  267.113495  1379200   \n",
       "2019-07-16   20.749047   20.777227   20.589367   20.626938  5659700   \n",
       "2019-07-16   47.972287   48.361790   47.782065   47.881706  5142900   \n",
       "\n",
       "            Dividends  Stock Splits Ticker  \n",
       "Date                                        \n",
       "2019-07-16        0.0             0    PEP  \n",
       "2019-07-16        0.0             0    CLX  \n",
       "2019-07-16        0.0             0   COST  \n",
       "2019-07-16        0.0             0     KR  \n",
       "2019-07-16        0.0             0    GIS  "
      ]
     },
     "execution_count": 11,
     "metadata": {},
     "output_type": "execute_result"
    }
   ],
   "source": [
    "df_ConsumerStaples.head()"
   ]
  }
 ],
 "metadata": {
  "kernelspec": {
   "display_name": "Python 3.7.11 ('PythonData')",
   "language": "python",
   "name": "python3"
  },
  "language_info": {
   "codemirror_mode": {
    "name": "ipython",
    "version": 3
   },
   "file_extension": ".py",
   "mimetype": "text/x-python",
   "name": "python",
   "nbconvert_exporter": "python",
   "pygments_lexer": "ipython3",
   "version": "3.7.11"
  },
  "orig_nbformat": 4,
  "vscode": {
   "interpreter": {
    "hash": "f7021a6f7726fe39ac48cd038ba7e79255716b8f361bc7ce436277db03bebaf6"
   }
  }
 },
 "nbformat": 4,
 "nbformat_minor": 2
}
