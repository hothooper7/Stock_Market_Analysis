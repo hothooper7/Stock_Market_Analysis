{
 "cells": [
  {
   "cell_type": "code",
   "execution_count": 1,
   "metadata": {},
   "outputs": [],
   "source": [
    "import yfinance as yf\n",
    "tickers = [\"PEP\", \"PG\", \"COST\", \"WMT\", \"CLX\", \"KR\", \"STZ\", \"KO\", \"HRL\", \"GIS\"]\n"
   ]
  },
  {
   "cell_type": "code",
   "execution_count": 3,
   "metadata": {},
   "outputs": [],
   "source": [
    "for ticker in tickers: \n",
    "    exec(f'df_{ticker} = yf.Ticker(ticker).history(period=\"3y\")')"
   ]
  },
  {
   "cell_type": "code",
   "execution_count": 5,
   "metadata": {},
   "outputs": [
    {
     "data": {
      "text/html": [
       "<div>\n",
       "<style scoped>\n",
       "    .dataframe tbody tr th:only-of-type {\n",
       "        vertical-align: middle;\n",
       "    }\n",
       "\n",
       "    .dataframe tbody tr th {\n",
       "        vertical-align: top;\n",
       "    }\n",
       "\n",
       "    .dataframe thead th {\n",
       "        text-align: right;\n",
       "    }\n",
       "</style>\n",
       "<table border=\"1\" class=\"dataframe\">\n",
       "  <thead>\n",
       "    <tr style=\"text-align: right;\">\n",
       "      <th></th>\n",
       "      <th>Open</th>\n",
       "      <th>High</th>\n",
       "      <th>Low</th>\n",
       "      <th>Close</th>\n",
       "      <th>Volume</th>\n",
       "      <th>Dividends</th>\n",
       "      <th>Stock Splits</th>\n",
       "    </tr>\n",
       "    <tr>\n",
       "      <th>Date</th>\n",
       "      <th></th>\n",
       "      <th></th>\n",
       "      <th></th>\n",
       "      <th></th>\n",
       "      <th></th>\n",
       "      <th></th>\n",
       "      <th></th>\n",
       "    </tr>\n",
       "  </thead>\n",
       "  <tbody>\n",
       "    <tr>\n",
       "      <th>2022-07-11</th>\n",
       "      <td>171.410004</td>\n",
       "      <td>172.800003</td>\n",
       "      <td>170.020004</td>\n",
       "      <td>170.470001</td>\n",
       "      <td>4921300</td>\n",
       "      <td>0.0</td>\n",
       "      <td>0</td>\n",
       "    </tr>\n",
       "    <tr>\n",
       "      <th>2022-07-12</th>\n",
       "      <td>173.000000</td>\n",
       "      <td>173.320007</td>\n",
       "      <td>168.869995</td>\n",
       "      <td>169.500000</td>\n",
       "      <td>5201600</td>\n",
       "      <td>0.0</td>\n",
       "      <td>0</td>\n",
       "    </tr>\n",
       "    <tr>\n",
       "      <th>2022-07-13</th>\n",
       "      <td>168.539993</td>\n",
       "      <td>171.440002</td>\n",
       "      <td>167.979996</td>\n",
       "      <td>170.100006</td>\n",
       "      <td>4533100</td>\n",
       "      <td>0.0</td>\n",
       "      <td>0</td>\n",
       "    </tr>\n",
       "    <tr>\n",
       "      <th>2022-07-14</th>\n",
       "      <td>168.289993</td>\n",
       "      <td>171.160004</td>\n",
       "      <td>167.699997</td>\n",
       "      <td>170.979996</td>\n",
       "      <td>4218300</td>\n",
       "      <td>0.0</td>\n",
       "      <td>0</td>\n",
       "    </tr>\n",
       "    <tr>\n",
       "      <th>2022-07-15</th>\n",
       "      <td>171.339996</td>\n",
       "      <td>172.919998</td>\n",
       "      <td>170.029999</td>\n",
       "      <td>171.119995</td>\n",
       "      <td>4655841</td>\n",
       "      <td>0.0</td>\n",
       "      <td>0</td>\n",
       "    </tr>\n",
       "  </tbody>\n",
       "</table>\n",
       "</div>"
      ],
      "text/plain": [
       "                  Open        High         Low       Close   Volume  \\\n",
       "Date                                                                  \n",
       "2022-07-11  171.410004  172.800003  170.020004  170.470001  4921300   \n",
       "2022-07-12  173.000000  173.320007  168.869995  169.500000  5201600   \n",
       "2022-07-13  168.539993  171.440002  167.979996  170.100006  4533100   \n",
       "2022-07-14  168.289993  171.160004  167.699997  170.979996  4218300   \n",
       "2022-07-15  171.339996  172.919998  170.029999  171.119995  4655841   \n",
       "\n",
       "            Dividends  Stock Splits  \n",
       "Date                                 \n",
       "2022-07-11        0.0             0  \n",
       "2022-07-12        0.0             0  \n",
       "2022-07-13        0.0             0  \n",
       "2022-07-14        0.0             0  \n",
       "2022-07-15        0.0             0  "
      ]
     },
     "execution_count": 5,
     "metadata": {},
     "output_type": "execute_result"
    }
   ],
   "source": [
    "df_PEP.tail()"
   ]
  },
  {
   "cell_type": "code",
   "execution_count": null,
   "metadata": {},
   "outputs": [],
   "source": []
  }
 ],
 "metadata": {
  "kernelspec": {
   "display_name": "Python 3.7.11 ('PythonData')",
   "language": "python",
   "name": "python3"
  },
  "language_info": {
   "codemirror_mode": {
    "name": "ipython",
    "version": 3
   },
   "file_extension": ".py",
   "mimetype": "text/x-python",
   "name": "python",
   "nbconvert_exporter": "python",
   "pygments_lexer": "ipython3",
   "version": "3.7.11"
  },
  "orig_nbformat": 4,
  "vscode": {
   "interpreter": {
    "hash": "f7021a6f7726fe39ac48cd038ba7e79255716b8f361bc7ce436277db03bebaf6"
   }
  }
 },
 "nbformat": 4,
 "nbformat_minor": 2
}
